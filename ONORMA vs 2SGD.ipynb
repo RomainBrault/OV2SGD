{
 "cells": [
  {
   "cell_type": "code",
   "execution_count": 2,
   "metadata": {
    "collapsed": false,
    "nbpresent": {
     "id": "f1a174e3-0d66-4b0f-b05c-385aa56fb69f"
    }
   },
   "outputs": [],
   "source": [
    "%matplotlib inline\n",
    "import matplotlib.pyplot as plt\n",
    "import seaborn as sns\n",
    "import pyov2sgd as orff\n",
    "import operalib as ovk\n",
    "import numpy as np\n",
    "import time"
   ]
  },
  {
   "cell_type": "code",
   "execution_count": 6,
   "metadata": {
    "collapsed": false,
    "nbpresent": {
     "id": "89db0264-4201-4199-b53d-816f9feb5c70"
    }
   },
   "outputs": [],
   "source": [
    "np.random.seed(0)\n",
    "\n",
    "n = 5000\n",
    "d = 20\n",
    "p = 4\n",
    "X = np.random.rand(n, d)\n",
    "Xtest = np.random.rand(n, d)\n",
    "\n",
    "def phi(X):\n",
    "    \"\"\"Generate data according to Evgeniou, C. A. Micchelli, and M. Pontil.\n",
    "\n",
    "    'Learning multiple tasks with kernel methods.' 2005.\n",
    "    \"\"\"\n",
    "    return np.hstack((X[:, 0:1] ** 2,\n",
    "                      X[:, 3:4] ** 2,\n",
    "                      X[:, 0:1] * X[:, 1:2],\n",
    "                      X[:, 2:3] * X[:, 4:5],\n",
    "                      X[:, 1:2],\n",
    "                      X[:, 3:4],\n",
    "                      np.ones((n, 1))))\n",
    "\n",
    "W = np.random.multivariate_normal(np.zeros(7), np.diag([0.5, 0.25, 0.1, 0.05, 0.15, 0.1, 0.15]), p)\n",
    "\n",
    "y = np.dot(phi(X), W.T)\n",
    "# Link components to a common mean.\n",
    "# y = .5 * y + 0.5 * np.mean(y, axis=1).reshape(-1, 1)\n",
    "y += .1 * np.random.randn(y.shape[0], y.shape[1])\n",
    "\n",
    "ytest = np.dot(phi(Xtest), W.T)\n",
    "ytest += .1 * np.random.randn(ytest.shape[0], y.shape[1])\n",
    "\n",
    "# Link components to a common mean.\n",
    "# ytest = .5 * ytest + 0.5 * np.mean(y, axis=1).reshape(-1, 1)\n",
    "\n",
    "X = 2 * X - 1\n",
    "Xtest = 2 * Xtest - 1"
   ]
  },
  {
   "cell_type": "code",
   "execution_count": 16,
   "metadata": {
    "collapsed": false
   },
   "outputs": [
    {
     "name": "stdout",
     "output_type": "stream",
     "text": [
      "Fitting Independent...\n",
      "1 0.266426 0.265677\n",
      "501 0.019048 0.017525\n",
      "1001 0.014950 0.013244\n",
      "1501 0.013801 0.011842\n",
      "2001 0.013293 0.011269\n"
     ]
    },
    {
     "ename": "KeyboardInterrupt",
     "evalue": "",
     "output_type": "error",
     "traceback": [
      "\u001b[0;31m---------------------------------------------------------------------------\u001b[0m",
      "\u001b[0;31mKeyboardInterrupt\u001b[0m                         Traceback (most recent call last)",
      "\u001b[0;32m<ipython-input-16-01d3b448f826>\u001b[0m in \u001b[0;36m<module>\u001b[0;34m()\u001b[0m\n\u001b[1;32m     20\u001b[0m     \u001b[0mcap\u001b[0m \u001b[0;34m=\u001b[0m \u001b[0midx\u001b[0m \u001b[0;34m//\u001b[0m \u001b[0mbatch\u001b[0m\u001b[0;34m\u001b[0m\u001b[0m\n\u001b[1;32m     21\u001b[0m     \u001b[0mest\u001b[0m \u001b[0;34m=\u001b[0m \u001b[0morff\u001b[0m\u001b[0;34m.\u001b[0m\u001b[0mDSOVK\u001b[0m\u001b[0;34m(\u001b[0m\u001b[0mL\u001b[0m\u001b[0;34m,\u001b[0m \u001b[0mK\u001b[0m\u001b[0;34m,\u001b[0m \u001b[0mR\u001b[0m\u001b[0;34m,\u001b[0m \u001b[0mp\u001b[0m\u001b[0;34m,\u001b[0m \u001b[0mlbda\u001b[0m\u001b[0;34m,\u001b[0m \u001b[0mnu\u001b[0m\u001b[0;34m,\u001b[0m \u001b[0mT\u001b[0m\u001b[0;34m,\u001b[0m \u001b[0mbatch\u001b[0m\u001b[0;34m,\u001b[0m \u001b[0mblock\u001b[0m\u001b[0;34m,\u001b[0m \u001b[0mcap\u001b[0m\u001b[0;34m,\u001b[0m \u001b[0mcond\u001b[0m\u001b[0;34m)\u001b[0m\u001b[0;34m\u001b[0m\u001b[0m\n\u001b[0;32m---> 22\u001b[0;31m     \u001b[0mest\u001b[0m\u001b[0;34m.\u001b[0m\u001b[0mfit_dense\u001b[0m\u001b[0;34m(\u001b[0m\u001b[0mX\u001b[0m\u001b[0;34m[\u001b[0m\u001b[0;34m:\u001b[0m\u001b[0midx\u001b[0m\u001b[0;34m,\u001b[0m \u001b[0;34m:\u001b[0m\u001b[0;34m]\u001b[0m\u001b[0;34m,\u001b[0m \u001b[0my\u001b[0m\u001b[0;34m[\u001b[0m\u001b[0;34m:\u001b[0m\u001b[0midx\u001b[0m\u001b[0;34m,\u001b[0m \u001b[0;34m:\u001b[0m\u001b[0;34m]\u001b[0m\u001b[0;34m)\u001b[0m\u001b[0;34m\u001b[0m\u001b[0m\n\u001b[0m\u001b[1;32m     23\u001b[0m \u001b[0;31m#     print(est.coefs())\u001b[0m\u001b[0;34m\u001b[0m\u001b[0;34m\u001b[0m\u001b[0m\n\u001b[1;32m     24\u001b[0m     \u001b[0merr_i\u001b[0m\u001b[0;34m[\u001b[0m\u001b[0mt\u001b[0m\u001b[0;34m]\u001b[0m \u001b[0;34m=\u001b[0m \u001b[0mnp\u001b[0m\u001b[0;34m.\u001b[0m\u001b[0mlinalg\u001b[0m\u001b[0;34m.\u001b[0m\u001b[0mnorm\u001b[0m\u001b[0;34m(\u001b[0m\u001b[0mest\u001b[0m\u001b[0;34m.\u001b[0m\u001b[0mpredict_dense\u001b[0m\u001b[0;34m(\u001b[0m\u001b[0mXtest\u001b[0m\u001b[0;34m)\u001b[0m \u001b[0;34m-\u001b[0m \u001b[0mytest\u001b[0m\u001b[0;34m)\u001b[0m \u001b[0;34m**\u001b[0m \u001b[0;36m2\u001b[0m \u001b[0;34m/\u001b[0m \u001b[0mytest\u001b[0m\u001b[0;34m.\u001b[0m\u001b[0msize\u001b[0m\u001b[0;34m\u001b[0m\u001b[0m\n",
      "\u001b[0;31mKeyboardInterrupt\u001b[0m: "
     ]
    }
   ],
   "source": [
    "eta0 = 1.\n",
    "lbda = 0.0001\n",
    "nu = 0.\n",
    "cond = 1e-10\n",
    "\n",
    "K = orff.DecomposableGaussian(1. * np.eye(p) + .0 * np.ones((p, p)), sigma=1 / np.sqrt(2 * 0.05))\n",
    "L = orff.RidgeLoss()\n",
    "R = orff.InverseScaling(eta0, .1, -1.)\n",
    "\n",
    "print('Fitting Independent...')\n",
    "start = time.time()\n",
    "steps = range(1, n, 500)\n",
    "err_i = np.empty(len(steps))\n",
    "err_i[0] = np.linalg.norm(y[0, :]) ** 2\n",
    "# est.partial_fit(X[0, :].reshape(1, -1), y[0, :])\n",
    "for t, idx in enumerate(steps):\n",
    "    batch = idx\n",
    "    T = idx // batch\n",
    "    block = batch\n",
    "    cap = idx // batch\n",
    "    est = orff.DSOVK(L, K, R, p, lbda, nu, T, batch, block, cap, cond)\n",
    "    est.fit_dense(X[:idx, :], y[:idx, :])\n",
    "#     print(est.coefs())\n",
    "    err_i[t] = np.linalg.norm(est.predict_dense(Xtest) - ytest) ** 2 / ytest.size\n",
    "    print('%d %f %f' % (idx, err_i[t], np.linalg.norm(est.predict_dense(X) - y) ** 2 / y.size))\n",
    "#     est.partial_fit(X[t, :], y[t, :])\n",
    "err_ci = err_i\n",
    "print('Independent training time:', time.time() - start)\n",
    "print('Independent MSE:', err_ci[-1])\n",
    "plt.plot(np.linspace(0, 100, err_ci.size), err_ci, label='Independent')\n",
    "plt.ylim(0.030, 0.0982)\n",
    "plt.title('Online learning with ONORMA')\n",
    "plt.xlabel('Size of the Training set (%)')\n",
    "plt.ylabel('MSE')\n",
    "plt.legend()"
   ]
  },
  {
   "cell_type": "code",
   "execution_count": 14,
   "metadata": {
    "collapsed": false,
    "nbpresent": {
     "id": "83cc9583-30ac-44d3-9e46-a8015490302d"
    }
   },
   "outputs": [
    {
     "name": "stdout",
     "output_type": "stream",
     "text": [
      "Fitting Independent...\n",
      "1 0.228142076417 0.231053015752\n",
      "501 0.115313539264 0.114336895869\n",
      "1001 0.110764903904 0.109727546247\n",
      "1501 0.108190377999 0.107212047382\n",
      "2001 0.106491188867 0.105515950558\n",
      "2501 0.105225160666 0.104274416223\n",
      "3001 0.104213403269 0.10322426809\n",
      "3501 0.103357891086 0.10235055298\n",
      "4001 0.102633015801 0.101624842164\n",
      "4501 0.101954971704 0.100938446195\n",
      "Independent training time: 57.14249515533447\n",
      "Independent MSE: 0.101954971704\n"
     ]
    },
    {
     "data": {
      "text/plain": [
       "<matplotlib.text.Text at 0x1189f16a0>"
      ]
     },
     "execution_count": 14,
     "metadata": {},
     "output_type": "execute_result"
    },
    {
     "data": {
      "image/png": "[encoded data removed]",
      "text/plain": [
       "<matplotlib.figure.Figure at 0x1189bf8d0>"
      ]
     },
     "metadata": {},
     "output_type": "display_data"
    }
   ],
   "source": [
    "print('Fitting Independent...')\n",
    "start = time.time()\n",
    "steps = range(1, n, 500)\n",
    "err_i = np.empty(len(steps))\n",
    "err_i[0] = np.linalg.norm(y[0, :]) ** 2\n",
    "for t, idx in enumerate(steps):\n",
    "    est = ovk.ONORMA('DGauss', A=1. * np.eye(p) + .0 * np.ones((p, p)), gamma=.05,\n",
    "                 learning_rate=ovk.InvScaling(2.0, 1), lbda=0.0001)\n",
    "    est.fit(X[:idx, :], y[:idx, :])\n",
    "    err_i[t] = np.linalg.norm(est.predict(Xtest) - ytest) ** 2 / ytest.size\n",
    "    print(idx, err_i[t], np.linalg.norm(est.predict(X) - y) ** 2 / y.size)\n",
    "    \n",
    "err_ci = err_i\n",
    "print('Independent training time:', time.time() - start)\n",
    "print('Independent MSE:', err_ci[-1])\n",
    "plt.figure(figsize=(16, 8))\n",
    "plt.semilogy(np.linspace(0, 100, err_ci.size), err_ci, label='Independent')\n",
    "plt.ylim(0.015, 1.2e-1)\n",
    "plt.title('Online learning with ONORMA')\n",
    "plt.xlabel('Size of the Training set (%)')\n",
    "plt.ylabel('MSE')\n",
    "# plt.legend()"
   ]
  },
  {
   "cell_type": "code",
   "execution_count": 14,
   "metadata": {
    "collapsed": false
   },
   "outputs": [
    {
     "name": "stdout",
     "output_type": "stream",
     "text": [
      "ORFF N experiment\n",
      "0.236899674637 0.0819640159607\n",
      "0.527694412155 0.103291034698\n",
      "0.67857710605 0.135370969772\n",
      "0.724887464948 0.16983294487\n",
      "0.764972994635 0.410250902176\n",
      "0.80052722158 0.735199928284\n",
      "0.819316882565 2.93443608284\n",
      "0.828394395698 8.43292498589\n"
     ]
    },
    {
     "ename": "KeyboardInterrupt",
     "evalue": "",
     "output_type": "error",
     "traceback": [
      "\u001b[0;31m---------------------------------------------------------------------------\u001b[0m",
      "\u001b[0;31mKeyboardInterrupt\u001b[0m                         Traceback (most recent call last)",
      "\u001b[0;32m<ipython-input-14-e4c64c6a1999>\u001b[0m in \u001b[0;36m<module>\u001b[0;34m()\u001b[0m\n\u001b[1;32m      6\u001b[0m     \u001b[0mstart\u001b[0m \u001b[0;34m=\u001b[0m \u001b[0mtime\u001b[0m\u001b[0;34m.\u001b[0m\u001b[0mtime\u001b[0m\u001b[0;34m(\u001b[0m\u001b[0;34m)\u001b[0m\u001b[0;34m\u001b[0m\u001b[0m\n\u001b[1;32m      7\u001b[0m     \u001b[0mest\u001b[0m \u001b[0;34m=\u001b[0m \u001b[0movk\u001b[0m\u001b[0;34m.\u001b[0m\u001b[0mORFFRidge\u001b[0m\u001b[0;34m(\u001b[0m\u001b[0mD\u001b[0m\u001b[0;34m=\u001b[0m\u001b[0;36m1000\u001b[0m\u001b[0;34m,\u001b[0m \u001b[0mgamma\u001b[0m\u001b[0;34m=\u001b[0m\u001b[0;36m.05\u001b[0m\u001b[0;34m,\u001b[0m \u001b[0mlbda\u001b[0m\u001b[0;34m=\u001b[0m\u001b[0;36m0.1\u001b[0m\u001b[0;34m,\u001b[0m \u001b[0msolver_params\u001b[0m\u001b[0;34m=\u001b[0m\u001b[0;34m{\u001b[0m\u001b[0;34m'm'\u001b[0m\u001b[0;34m:\u001b[0m \u001b[0;36m1000\u001b[0m\u001b[0;34m,\u001b[0m \u001b[0;34m'pgtol'\u001b[0m\u001b[0;34m:\u001b[0m\u001b[0;36m1e-10\u001b[0m\u001b[0;34m}\u001b[0m\u001b[0;34m)\u001b[0m\u001b[0;34m\u001b[0m\u001b[0m\n\u001b[0;32m----> 8\u001b[0;31m     \u001b[0mest\u001b[0m\u001b[0;34m.\u001b[0m\u001b[0mfit\u001b[0m\u001b[0;34m(\u001b[0m\u001b[0mX\u001b[0m\u001b[0;34m[\u001b[0m\u001b[0;34m:\u001b[0m\u001b[0midx\u001b[0m\u001b[0;34m,\u001b[0m \u001b[0;34m:\u001b[0m\u001b[0;34m]\u001b[0m\u001b[0;34m,\u001b[0m \u001b[0my\u001b[0m\u001b[0;34m[\u001b[0m\u001b[0;34m:\u001b[0m\u001b[0midx\u001b[0m\u001b[0;34m,\u001b[0m \u001b[0;34m:\u001b[0m\u001b[0;34m]\u001b[0m\u001b[0;34m)\u001b[0m\u001b[0;34m\u001b[0m\u001b[0m\n\u001b[0m\u001b[1;32m      9\u001b[0m     \u001b[0mrfft\u001b[0m\u001b[0;34m[\u001b[0m\u001b[0ms\u001b[0m\u001b[0;34m]\u001b[0m \u001b[0;34m=\u001b[0m \u001b[0mtime\u001b[0m\u001b[0;34m.\u001b[0m\u001b[0mtime\u001b[0m\u001b[0;34m(\u001b[0m\u001b[0;34m)\u001b[0m \u001b[0;34m-\u001b[0m \u001b[0mstart\u001b[0m\u001b[0;34m\u001b[0m\u001b[0m\n\u001b[1;32m     10\u001b[0m     \u001b[0mrffe\u001b[0m\u001b[0;34m[\u001b[0m\u001b[0ms\u001b[0m\u001b[0;34m]\u001b[0m \u001b[0;34m=\u001b[0m \u001b[0mest\u001b[0m\u001b[0;34m.\u001b[0m\u001b[0mscore\u001b[0m\u001b[0;34m(\u001b[0m\u001b[0mXtest\u001b[0m\u001b[0;34m,\u001b[0m \u001b[0mytest\u001b[0m\u001b[0;34m)\u001b[0m\u001b[0;34m\u001b[0m\u001b[0m\n",
      "\u001b[0;32m/Users/Romain/anaconda/lib/python3.5/site-packages/operalib-0.2b2-py3.5.egg/operalib/orff.py\u001b[0m in \u001b[0;36mfit\u001b[0;34m(self, X, y)\u001b[0m\n\u001b[1;32m    113\u001b[0m                                          args=(y.ravel(), self.phix_,\n\u001b[1;32m    114\u001b[0m                                                self.linop_),\n\u001b[0;32m--> 115\u001b[0;31m                                          **solver_params)\n\u001b[0m\u001b[1;32m    116\u001b[0m         \u001b[0mself\u001b[0m\u001b[0;34m.\u001b[0m\u001b[0mcoefs_\u001b[0m \u001b[0;34m=\u001b[0m \u001b[0mself\u001b[0m\u001b[0;34m.\u001b[0m\u001b[0msolver_res_\u001b[0m\u001b[0;34m[\u001b[0m\u001b[0;36m0\u001b[0m\u001b[0;34m]\u001b[0m\u001b[0;34m\u001b[0m\u001b[0m\n\u001b[1;32m    117\u001b[0m         \u001b[0;32mreturn\u001b[0m \u001b[0mself\u001b[0m\u001b[0;34m\u001b[0m\u001b[0m\n",
      "\u001b[0;32m/Users/Romain/anaconda/lib/python3.5/site-packages/scipy/optimize/lbfgsb.py\u001b[0m in \u001b[0;36mfmin_l_bfgs_b\u001b[0;34m(func, x0, fprime, args, approx_grad, bounds, m, factr, pgtol, epsilon, iprint, maxfun, maxiter, disp, callback, maxls)\u001b[0m\n\u001b[1;32m    191\u001b[0m \u001b[0;34m\u001b[0m\u001b[0m\n\u001b[1;32m    192\u001b[0m     res = _minimize_lbfgsb(fun, x0, args=args, jac=jac, bounds=bounds,\n\u001b[0;32m--> 193\u001b[0;31m                            **opts)\n\u001b[0m\u001b[1;32m    194\u001b[0m     d = {'grad': res['jac'],\n\u001b[1;32m    195\u001b[0m          \u001b[0;34m'task'\u001b[0m\u001b[0;34m:\u001b[0m \u001b[0mres\u001b[0m\u001b[0;34m[\u001b[0m\u001b[0;34m'message'\u001b[0m\u001b[0;34m]\u001b[0m\u001b[0;34m,\u001b[0m\u001b[0;34m\u001b[0m\u001b[0m\n",
      "\u001b[0;32m/Users/Romain/anaconda/lib/python3.5/site-packages/scipy/optimize/lbfgsb.py\u001b[0m in \u001b[0;36m_minimize_lbfgsb\u001b[0;34m(fun, x0, args, jac, bounds, disp, maxcor, ftol, gtol, eps, maxfun, maxiter, iprint, callback, maxls, **unknown_options)\u001b[0m\n\u001b[1;32m    328\u001b[0m                 \u001b[0;31m# minimization routine wants f and g at the current x\u001b[0m\u001b[0;34m\u001b[0m\u001b[0;34m\u001b[0m\u001b[0m\n\u001b[1;32m    329\u001b[0m                 \u001b[0;31m# Overwrite f and g:\u001b[0m\u001b[0;34m\u001b[0m\u001b[0;34m\u001b[0m\u001b[0m\n\u001b[0;32m--> 330\u001b[0;31m                 \u001b[0mf\u001b[0m\u001b[0;34m,\u001b[0m \u001b[0mg\u001b[0m \u001b[0;34m=\u001b[0m \u001b[0mfunc_and_grad\u001b[0m\u001b[0;34m(\u001b[0m\u001b[0mx\u001b[0m\u001b[0;34m)\u001b[0m\u001b[0;34m\u001b[0m\u001b[0m\n\u001b[0m\u001b[1;32m    331\u001b[0m         \u001b[0;32melif\u001b[0m \u001b[0mtask_str\u001b[0m\u001b[0;34m.\u001b[0m\u001b[0mstartswith\u001b[0m\u001b[0;34m(\u001b[0m\u001b[0;34mb'NEW_X'\u001b[0m\u001b[0;34m)\u001b[0m\u001b[0;34m:\u001b[0m\u001b[0;34m\u001b[0m\u001b[0m\n\u001b[1;32m    332\u001b[0m             \u001b[0;31m# new iteration\u001b[0m\u001b[0;34m\u001b[0m\u001b[0;34m\u001b[0m\u001b[0m\n",
      "\u001b[0;32m/Users/Romain/anaconda/lib/python3.5/site-packages/scipy/optimize/lbfgsb.py\u001b[0m in \u001b[0;36mfunc_and_grad\u001b[0;34m(x)\u001b[0m\n\u001b[1;32m    276\u001b[0m     \u001b[0;32melse\u001b[0m\u001b[0;34m:\u001b[0m\u001b[0;34m\u001b[0m\u001b[0m\n\u001b[1;32m    277\u001b[0m         \u001b[0;32mdef\u001b[0m \u001b[0mfunc_and_grad\u001b[0m\u001b[0;34m(\u001b[0m\u001b[0mx\u001b[0m\u001b[0;34m)\u001b[0m\u001b[0;34m:\u001b[0m\u001b[0;34m\u001b[0m\u001b[0m\n\u001b[0;32m--> 278\u001b[0;31m             \u001b[0mf\u001b[0m \u001b[0;34m=\u001b[0m \u001b[0mfun\u001b[0m\u001b[0;34m(\u001b[0m\u001b[0mx\u001b[0m\u001b[0;34m,\u001b[0m \u001b[0;34m*\u001b[0m\u001b[0margs\u001b[0m\u001b[0;34m)\u001b[0m\u001b[0;34m\u001b[0m\u001b[0m\n\u001b[0m\u001b[1;32m    279\u001b[0m             \u001b[0mg\u001b[0m \u001b[0;34m=\u001b[0m \u001b[0mjac\u001b[0m\u001b[0;34m(\u001b[0m\u001b[0mx\u001b[0m\u001b[0;34m,\u001b[0m \u001b[0;34m*\u001b[0m\u001b[0margs\u001b[0m\u001b[0;34m)\u001b[0m\u001b[0;34m\u001b[0m\u001b[0m\n\u001b[1;32m    280\u001b[0m             \u001b[0;32mreturn\u001b[0m \u001b[0mf\u001b[0m\u001b[0;34m,\u001b[0m \u001b[0mg\u001b[0m\u001b[0;34m\u001b[0m\u001b[0m\n",
      "\u001b[0;32m/Users/Romain/anaconda/lib/python3.5/site-packages/scipy/optimize/optimize.py\u001b[0m in \u001b[0;36mfunction_wrapper\u001b[0;34m(*wrapper_args)\u001b[0m\n\u001b[1;32m    287\u001b[0m     \u001b[0;32mdef\u001b[0m \u001b[0mfunction_wrapper\u001b[0m\u001b[0;34m(\u001b[0m\u001b[0;34m*\u001b[0m\u001b[0mwrapper_args\u001b[0m\u001b[0;34m)\u001b[0m\u001b[0;34m:\u001b[0m\u001b[0;34m\u001b[0m\u001b[0m\n\u001b[1;32m    288\u001b[0m         \u001b[0mncalls\u001b[0m\u001b[0;34m[\u001b[0m\u001b[0;36m0\u001b[0m\u001b[0;34m]\u001b[0m \u001b[0;34m+=\u001b[0m \u001b[0;36m1\u001b[0m\u001b[0;34m\u001b[0m\u001b[0m\n\u001b[0;32m--> 289\u001b[0;31m         \u001b[0;32mreturn\u001b[0m \u001b[0mfunction\u001b[0m\u001b[0;34m(\u001b[0m\u001b[0;34m*\u001b[0m\u001b[0;34m(\u001b[0m\u001b[0mwrapper_args\u001b[0m \u001b[0;34m+\u001b[0m \u001b[0margs\u001b[0m\u001b[0;34m)\u001b[0m\u001b[0;34m)\u001b[0m\u001b[0;34m\u001b[0m\u001b[0m\n\u001b[0m\u001b[1;32m    290\u001b[0m \u001b[0;34m\u001b[0m\u001b[0m\n\u001b[1;32m    291\u001b[0m     \u001b[0;32mreturn\u001b[0m \u001b[0mncalls\u001b[0m\u001b[0;34m,\u001b[0m \u001b[0mfunction_wrapper\u001b[0m\u001b[0;34m\u001b[0m\u001b[0m\n",
      "\u001b[0;32m/Users/Romain/anaconda/lib/python3.5/site-packages/scipy/optimize/optimize.py\u001b[0m in \u001b[0;36m__call__\u001b[0;34m(self, x, *args)\u001b[0m\n\u001b[1;32m     61\u001b[0m     \u001b[0;32mdef\u001b[0m \u001b[0m__call__\u001b[0m\u001b[0;34m(\u001b[0m\u001b[0mself\u001b[0m\u001b[0;34m,\u001b[0m \u001b[0mx\u001b[0m\u001b[0;34m,\u001b[0m \u001b[0;34m*\u001b[0m\u001b[0margs\u001b[0m\u001b[0;34m)\u001b[0m\u001b[0;34m:\u001b[0m\u001b[0;34m\u001b[0m\u001b[0m\n\u001b[1;32m     62\u001b[0m         \u001b[0mself\u001b[0m\u001b[0;34m.\u001b[0m\u001b[0mx\u001b[0m \u001b[0;34m=\u001b[0m \u001b[0mnumpy\u001b[0m\u001b[0;34m.\u001b[0m\u001b[0masarray\u001b[0m\u001b[0;34m(\u001b[0m\u001b[0mx\u001b[0m\u001b[0;34m)\u001b[0m\u001b[0;34m.\u001b[0m\u001b[0mcopy\u001b[0m\u001b[0;34m(\u001b[0m\u001b[0;34m)\u001b[0m\u001b[0;34m\u001b[0m\u001b[0m\n\u001b[0;32m---> 63\u001b[0;31m         \u001b[0mfg\u001b[0m \u001b[0;34m=\u001b[0m \u001b[0mself\u001b[0m\u001b[0;34m.\u001b[0m\u001b[0mfun\u001b[0m\u001b[0;34m(\u001b[0m\u001b[0mx\u001b[0m\u001b[0;34m,\u001b[0m \u001b[0;34m*\u001b[0m\u001b[0margs\u001b[0m\u001b[0;34m)\u001b[0m\u001b[0;34m\u001b[0m\u001b[0m\n\u001b[0m\u001b[1;32m     64\u001b[0m         \u001b[0mself\u001b[0m\u001b[0;34m.\u001b[0m\u001b[0mjac\u001b[0m \u001b[0;34m=\u001b[0m \u001b[0mfg\u001b[0m\u001b[0;34m[\u001b[0m\u001b[0;36m1\u001b[0m\u001b[0;34m]\u001b[0m\u001b[0;34m\u001b[0m\u001b[0m\n\u001b[1;32m     65\u001b[0m         \u001b[0;32mreturn\u001b[0m \u001b[0mfg\u001b[0m\u001b[0;34m[\u001b[0m\u001b[0;36m0\u001b[0m\u001b[0;34m]\u001b[0m\u001b[0;34m\u001b[0m\u001b[0m\n",
      "\u001b[0;32m/Users/Romain/anaconda/lib/python3.5/site-packages/operalib-0.2b2-py3.5.egg/operalib/risk.py\u001b[0m in \u001b[0;36mfunctional_grad_val\u001b[0;34m(self, coefs, ground_truth, phix, ker)\u001b[0m\n\u001b[1;32m    115\u001b[0m             \u001b[0;32mraise\u001b[0m\u001b[0;34m(\u001b[0m\u001b[0;34m'Unsupported kernel'\u001b[0m\u001b[0;34m)\u001b[0m\u001b[0;34m\u001b[0m\u001b[0m\n\u001b[1;32m    116\u001b[0m         return (norm(res) ** 2 / (2 * np) + self.lbda * reg / (2 * np),\n\u001b[0;32m--> 117\u001b[0;31m                 phix.H * res / np + self.lbda * coefs / np)\n\u001b[0m\u001b[1;32m    118\u001b[0m \u001b[0;34m\u001b[0m\u001b[0m\n\u001b[1;32m    119\u001b[0m \u001b[0;34m\u001b[0m\u001b[0m\n",
      "\u001b[0;32m/Users/Romain/anaconda/lib/python3.5/site-packages/scipy/sparse/linalg/interface.py\u001b[0m in \u001b[0;36m__mul__\u001b[0;34m(self, x)\u001b[0m\n\u001b[1;32m    336\u001b[0m \u001b[0;34m\u001b[0m\u001b[0m\n\u001b[1;32m    337\u001b[0m     \u001b[0;32mdef\u001b[0m \u001b[0m__mul__\u001b[0m\u001b[0;34m(\u001b[0m\u001b[0mself\u001b[0m\u001b[0;34m,\u001b[0m \u001b[0mx\u001b[0m\u001b[0;34m)\u001b[0m\u001b[0;34m:\u001b[0m\u001b[0;34m\u001b[0m\u001b[0m\n\u001b[0;32m--> 338\u001b[0;31m         \u001b[0;32mreturn\u001b[0m \u001b[0mself\u001b[0m\u001b[0;34m.\u001b[0m\u001b[0mdot\u001b[0m\u001b[0;34m(\u001b[0m\u001b[0mx\u001b[0m\u001b[0;34m)\u001b[0m\u001b[0;34m\u001b[0m\u001b[0m\n\u001b[0m\u001b[1;32m    339\u001b[0m \u001b[0;34m\u001b[0m\u001b[0m\n\u001b[1;32m    340\u001b[0m     \u001b[0;32mdef\u001b[0m \u001b[0mdot\u001b[0m\u001b[0;34m(\u001b[0m\u001b[0mself\u001b[0m\u001b[0;34m,\u001b[0m \u001b[0mx\u001b[0m\u001b[0;34m)\u001b[0m\u001b[0;34m:\u001b[0m\u001b[0;34m\u001b[0m\u001b[0m\n",
      "\u001b[0;32m/Users/Romain/anaconda/lib/python3.5/site-packages/scipy/sparse/linalg/interface.py\u001b[0m in \u001b[0;36mdot\u001b[0;34m(self, x)\u001b[0m\n\u001b[1;32m    361\u001b[0m \u001b[0;34m\u001b[0m\u001b[0m\n\u001b[1;32m    362\u001b[0m             \u001b[0;32mif\u001b[0m \u001b[0mx\u001b[0m\u001b[0;34m.\u001b[0m\u001b[0mndim\u001b[0m \u001b[0;34m==\u001b[0m \u001b[0;36m1\u001b[0m \u001b[0;32mor\u001b[0m \u001b[0mx\u001b[0m\u001b[0;34m.\u001b[0m\u001b[0mndim\u001b[0m \u001b[0;34m==\u001b[0m \u001b[0;36m2\u001b[0m \u001b[0;32mand\u001b[0m \u001b[0mx\u001b[0m\u001b[0;34m.\u001b[0m\u001b[0mshape\u001b[0m\u001b[0;34m[\u001b[0m\u001b[0;36m1\u001b[0m\u001b[0;34m]\u001b[0m \u001b[0;34m==\u001b[0m \u001b[0;36m1\u001b[0m\u001b[0;34m:\u001b[0m\u001b[0;34m\u001b[0m\u001b[0m\n\u001b[0;32m--> 363\u001b[0;31m                 \u001b[0;32mreturn\u001b[0m \u001b[0mself\u001b[0m\u001b[0;34m.\u001b[0m\u001b[0mmatvec\u001b[0m\u001b[0;34m(\u001b[0m\u001b[0mx\u001b[0m\u001b[0;34m)\u001b[0m\u001b[0;34m\u001b[0m\u001b[0m\n\u001b[0m\u001b[1;32m    364\u001b[0m             \u001b[0;32melif\u001b[0m \u001b[0mx\u001b[0m\u001b[0;34m.\u001b[0m\u001b[0mndim\u001b[0m \u001b[0;34m==\u001b[0m \u001b[0;36m2\u001b[0m\u001b[0;34m:\u001b[0m\u001b[0;34m\u001b[0m\u001b[0m\n\u001b[1;32m    365\u001b[0m                 \u001b[0;32mreturn\u001b[0m \u001b[0mself\u001b[0m\u001b[0;34m.\u001b[0m\u001b[0mmatmat\u001b[0m\u001b[0;34m(\u001b[0m\u001b[0mx\u001b[0m\u001b[0;34m)\u001b[0m\u001b[0;34m\u001b[0m\u001b[0m\n",
      "\u001b[0;32m/Users/Romain/anaconda/lib/python3.5/site-packages/scipy/sparse/linalg/interface.py\u001b[0m in \u001b[0;36mmatvec\u001b[0;34m(self, x)\u001b[0m\n\u001b[1;32m    218\u001b[0m             \u001b[0;32mraise\u001b[0m \u001b[0mValueError\u001b[0m\u001b[0;34m(\u001b[0m\u001b[0;34m'dimension mismatch'\u001b[0m\u001b[0;34m)\u001b[0m\u001b[0;34m\u001b[0m\u001b[0m\n\u001b[1;32m    219\u001b[0m \u001b[0;34m\u001b[0m\u001b[0m\n\u001b[0;32m--> 220\u001b[0;31m         \u001b[0my\u001b[0m \u001b[0;34m=\u001b[0m \u001b[0mself\u001b[0m\u001b[0;34m.\u001b[0m\u001b[0m_matvec\u001b[0m\u001b[0;34m(\u001b[0m\u001b[0mx\u001b[0m\u001b[0;34m)\u001b[0m\u001b[0;34m\u001b[0m\u001b[0m\n\u001b[0m\u001b[1;32m    221\u001b[0m \u001b[0;34m\u001b[0m\u001b[0m\n\u001b[1;32m    222\u001b[0m         \u001b[0;32mif\u001b[0m \u001b[0misinstance\u001b[0m\u001b[0;34m(\u001b[0m\u001b[0mx\u001b[0m\u001b[0;34m,\u001b[0m \u001b[0mnp\u001b[0m\u001b[0;34m.\u001b[0m\u001b[0mmatrix\u001b[0m\u001b[0;34m)\u001b[0m\u001b[0;34m:\u001b[0m\u001b[0;34m\u001b[0m\u001b[0m\n",
      "\u001b[0;32m/Users/Romain/anaconda/lib/python3.5/site-packages/scipy/sparse/linalg/interface.py\u001b[0m in \u001b[0;36m_matvec\u001b[0;34m(self, x)\u001b[0m\n\u001b[1;32m    470\u001b[0m \u001b[0;34m\u001b[0m\u001b[0m\n\u001b[1;32m    471\u001b[0m     \u001b[0;32mdef\u001b[0m \u001b[0m_matvec\u001b[0m\u001b[0;34m(\u001b[0m\u001b[0mself\u001b[0m\u001b[0;34m,\u001b[0m \u001b[0mx\u001b[0m\u001b[0;34m)\u001b[0m\u001b[0;34m:\u001b[0m\u001b[0;34m\u001b[0m\u001b[0m\n\u001b[0;32m--> 472\u001b[0;31m         \u001b[0;32mreturn\u001b[0m \u001b[0mself\u001b[0m\u001b[0;34m.\u001b[0m\u001b[0m__matvec_impl\u001b[0m\u001b[0;34m(\u001b[0m\u001b[0mx\u001b[0m\u001b[0;34m)\u001b[0m\u001b[0;34m\u001b[0m\u001b[0m\n\u001b[0m\u001b[1;32m    473\u001b[0m \u001b[0;34m\u001b[0m\u001b[0m\n\u001b[1;32m    474\u001b[0m     \u001b[0;32mdef\u001b[0m \u001b[0m_rmatvec\u001b[0m\u001b[0;34m(\u001b[0m\u001b[0mself\u001b[0m\u001b[0;34m,\u001b[0m \u001b[0mx\u001b[0m\u001b[0;34m)\u001b[0m\u001b[0;34m:\u001b[0m\u001b[0;34m\u001b[0m\u001b[0m\n",
      "\u001b[0;32m/Users/Romain/anaconda/lib/python3.5/site-packages/operalib-0.2b2-py3.5.egg/operalib/kernels.py\u001b[0m in \u001b[0;36m<lambda>\u001b[0;34m(r)\u001b[0m\n\u001b[1;32m    263\u001b[0m                                   rmatvec=lambda r: dot(Xb.T,\n\u001b[1;32m    264\u001b[0m                                                         dot(r.reshape(rshape),\n\u001b[0;32m--> 265\u001b[0;31m                                                             self.B_.T)))\n\u001b[0m\u001b[1;32m    266\u001b[0m \u001b[0;34m\u001b[0m\u001b[0m\n\u001b[1;32m    267\u001b[0m     \u001b[0;32mdef\u001b[0m \u001b[0m__call__\u001b[0m\u001b[0;34m(\u001b[0m\u001b[0mself\u001b[0m\u001b[0;34m,\u001b[0m \u001b[0mX\u001b[0m\u001b[0;34m,\u001b[0m \u001b[0mY\u001b[0m\u001b[0;34m=\u001b[0m\u001b[0;32mNone\u001b[0m\u001b[0;34m)\u001b[0m\u001b[0;34m:\u001b[0m\u001b[0;34m\u001b[0m\u001b[0m\n",
      "\u001b[0;31mKeyboardInterrupt\u001b[0m: "
     ]
    }
   ],
   "source": [
    "print('ORFF N experiment')\n",
    "isp = np.logspace(1, np.log10(n), 10).astype(np.int)\n",
    "rffe = np.zeros(isp.size)\n",
    "rfft = np.zeros(isp.size)\n",
    "for s, idx in enumerate(isp):\n",
    "    start = time.time()\n",
    "    est = ovk.ORFFRidge(D=1000, gamma=.05, lbda=0.1, solver_params={'m': 1000, 'pgtol':1e-10})\n",
    "    est.fit(X[:idx, :], y[:idx, :])\n",
    "    rfft[s] = time.time() - start\n",
    "    rffe[s] = est.score(Xtest, ytest)\n",
    "    print(rffe[s], rfft[s])\n",
    "\n",
    "print('OVK N experiment')\n",
    "isp = np.logspace(1, np.log10(n), 10).astype(np.int)\n",
    "ovkt = np.zeros(isp.size)\n",
    "ovke = np.zeros(isp.size)\n",
    "for s, idx in enumerate(isp):\n",
    "    if idx > 2000:\n",
    "        ovke[s:] = np.NaN\n",
    "        ovkt[s:] = np.NaN\n",
    "        break\n",
    "    start = time.time()\n",
    "    est = ovk.OVKRidge(gamma=.05, lbda=0.1, solver_params={'m': idx, 'pgtol':1e-10})\n",
    "    est.fit(X[:idx, :], y[:idx, :])\n",
    "    ovkt[s] = time.time() - start\n",
    "    ovke[s] = est.score(Xtest, ytest)\n",
    "    print(ovke[s], ovkt[s])\n",
    "\n",
    "print('ORFF D experiment')\n",
    "isp = np.logspace(1, np.log10(2000), 10).astype(np.int)\n",
    "rffDe = np.zeros(isp.size)\n",
    "rffDt = np.zeros(isp.size)\n",
    "for s, D in enumerate(isp):\n",
    "    start = time.time()\n",
    "    est = ovk.ORFFRidge(D=D, gamma=.05, lbda=0.5, solver_params={'m': D, 'pgtol':1e-10})\n",
    "    est.fit(X[:2000, :], y[:2000, :])\n",
    "    rffDt[s] = time.time() - start\n",
    "    rffDe[s] = est.score(Xtest, ytest)\n",
    "    print(rffe[s], rfft[s])\n",
    "\n",
    "print('OVK D experiment')\n",
    "est = ovk.OVKRidge(gamma=.05, lbda=0.1, solver_params={'m': 2000, 'pgtol':1e-10})\n",
    "est.fit(X[:2000, :], y[:2000, :])\n",
    "ovkDt = time.time() - start\n",
    "ovkDe = est.score(Xtest, ytest)\n",
    "print(ovkDt,ovkDe)"
   ]
  },
  {
   "cell_type": "code",
   "execution_count": 13,
   "metadata": {
    "collapsed": false
   },
   "outputs": [
    {
     "name": "stdout",
     "output_type": "stream",
     "text": [
      "ORFF N experiment\n",
      "0.169779853049 0.103729963303\n",
      "0.438777541848 0.100528001785\n",
      "0.620627608646 0.114326953888\n",
      "0.730900193137 0.15741610527\n",
      "0.772552062778 0.233984947205\n",
      "0.801051868063 0.430462837219\n",
      "0.819284229187 2.55705595016\n",
      "0.828703532767 4.61648106575\n",
      "0.833275134959 27.392922163\n"
     ]
    },
    {
     "ename": "KeyboardInterrupt",
     "evalue": "",
     "output_type": "error",
     "traceback": [
      "\u001b[0;31m---------------------------------------------------------------------------\u001b[0m",
      "\u001b[0;31mKeyboardInterrupt\u001b[0m                         Traceback (most recent call last)",
      "\u001b[0;32m<ipython-input-13-d847132f0587>\u001b[0m in \u001b[0;36m<module>\u001b[0;34m()\u001b[0m\n\u001b[1;32m      6\u001b[0m     \u001b[0mstart\u001b[0m \u001b[0;34m=\u001b[0m \u001b[0mtime\u001b[0m\u001b[0;34m.\u001b[0m\u001b[0mtime\u001b[0m\u001b[0;34m(\u001b[0m\u001b[0;34m)\u001b[0m\u001b[0;34m\u001b[0m\u001b[0m\n\u001b[1;32m      7\u001b[0m     \u001b[0mest\u001b[0m \u001b[0;34m=\u001b[0m \u001b[0movk\u001b[0m\u001b[0;34m.\u001b[0m\u001b[0mORFFRidge\u001b[0m\u001b[0;34m(\u001b[0m\u001b[0mD\u001b[0m\u001b[0;34m=\u001b[0m\u001b[0;36m1000\u001b[0m\u001b[0;34m,\u001b[0m \u001b[0mgamma\u001b[0m\u001b[0;34m=\u001b[0m\u001b[0;36m.05\u001b[0m\u001b[0;34m,\u001b[0m \u001b[0mA\u001b[0m\u001b[0;34m=\u001b[0m\u001b[0mnp\u001b[0m\u001b[0;34m.\u001b[0m\u001b[0mcorrcoef\u001b[0m\u001b[0;34m(\u001b[0m\u001b[0my\u001b[0m\u001b[0;34m[\u001b[0m\u001b[0;34m:\u001b[0m\u001b[0midx\u001b[0m\u001b[0;34m,\u001b[0m \u001b[0;34m:\u001b[0m\u001b[0;34m]\u001b[0m\u001b[0;34m.\u001b[0m\u001b[0mT\u001b[0m\u001b[0;34m)\u001b[0m\u001b[0;34m,\u001b[0m \u001b[0mlbda\u001b[0m\u001b[0;34m=\u001b[0m\u001b[0;36m0.5\u001b[0m\u001b[0;34m,\u001b[0m \u001b[0msolver_params\u001b[0m\u001b[0;34m=\u001b[0m\u001b[0;34m{\u001b[0m\u001b[0;34m'm'\u001b[0m\u001b[0;34m:\u001b[0m \u001b[0;36m1000\u001b[0m\u001b[0;34m,\u001b[0m \u001b[0;34m'pgtol'\u001b[0m\u001b[0;34m:\u001b[0m\u001b[0;36m1e-10\u001b[0m\u001b[0;34m}\u001b[0m\u001b[0;34m)\u001b[0m\u001b[0;34m\u001b[0m\u001b[0m\n\u001b[0;32m----> 8\u001b[0;31m     \u001b[0mest\u001b[0m\u001b[0;34m.\u001b[0m\u001b[0mfit\u001b[0m\u001b[0;34m(\u001b[0m\u001b[0mX\u001b[0m\u001b[0;34m[\u001b[0m\u001b[0;34m:\u001b[0m\u001b[0midx\u001b[0m\u001b[0;34m,\u001b[0m \u001b[0;34m:\u001b[0m\u001b[0;34m]\u001b[0m\u001b[0;34m,\u001b[0m \u001b[0my\u001b[0m\u001b[0;34m[\u001b[0m\u001b[0;34m:\u001b[0m\u001b[0midx\u001b[0m\u001b[0;34m,\u001b[0m \u001b[0;34m:\u001b[0m\u001b[0;34m]\u001b[0m\u001b[0;34m)\u001b[0m\u001b[0;34m\u001b[0m\u001b[0m\n\u001b[0m\u001b[1;32m      9\u001b[0m     \u001b[0mrfft\u001b[0m\u001b[0;34m[\u001b[0m\u001b[0ms\u001b[0m\u001b[0;34m]\u001b[0m \u001b[0;34m=\u001b[0m \u001b[0mtime\u001b[0m\u001b[0;34m.\u001b[0m\u001b[0mtime\u001b[0m\u001b[0;34m(\u001b[0m\u001b[0;34m)\u001b[0m \u001b[0;34m-\u001b[0m \u001b[0mstart\u001b[0m\u001b[0;34m\u001b[0m\u001b[0m\n\u001b[1;32m     10\u001b[0m     \u001b[0mrffe\u001b[0m\u001b[0;34m[\u001b[0m\u001b[0ms\u001b[0m\u001b[0;34m]\u001b[0m \u001b[0;34m=\u001b[0m \u001b[0mest\u001b[0m\u001b[0;34m.\u001b[0m\u001b[0mscore\u001b[0m\u001b[0;34m(\u001b[0m\u001b[0mXtest\u001b[0m\u001b[0;34m,\u001b[0m \u001b[0mytest\u001b[0m\u001b[0;34m)\u001b[0m\u001b[0;34m\u001b[0m\u001b[0m\n",
      "\u001b[0;32m/Users/Romain/anaconda/lib/python3.5/site-packages/operalib-0.2b2-py3.5.egg/operalib/orff.py\u001b[0m in \u001b[0;36mfit\u001b[0;34m(self, X, y)\u001b[0m\n\u001b[1;32m    113\u001b[0m                                          args=(y.ravel(), self.phix_,\n\u001b[1;32m    114\u001b[0m                                                self.linop_),\n\u001b[0;32m--> 115\u001b[0;31m                                          **solver_params)\n\u001b[0m\u001b[1;32m    116\u001b[0m         \u001b[0mself\u001b[0m\u001b[0;34m.\u001b[0m\u001b[0mcoefs_\u001b[0m \u001b[0;34m=\u001b[0m \u001b[0mself\u001b[0m\u001b[0;34m.\u001b[0m\u001b[0msolver_res_\u001b[0m\u001b[0;34m[\u001b[0m\u001b[0;36m0\u001b[0m\u001b[0;34m]\u001b[0m\u001b[0;34m\u001b[0m\u001b[0m\n\u001b[1;32m    117\u001b[0m         \u001b[0;32mreturn\u001b[0m \u001b[0mself\u001b[0m\u001b[0;34m\u001b[0m\u001b[0m\n",
      "\u001b[0;32m/Users/Romain/anaconda/lib/python3.5/site-packages/scipy/optimize/lbfgsb.py\u001b[0m in \u001b[0;36mfmin_l_bfgs_b\u001b[0;34m(func, x0, fprime, args, approx_grad, bounds, m, factr, pgtol, epsilon, iprint, maxfun, maxiter, disp, callback, maxls)\u001b[0m\n\u001b[1;32m    191\u001b[0m \u001b[0;34m\u001b[0m\u001b[0m\n\u001b[1;32m    192\u001b[0m     res = _minimize_lbfgsb(fun, x0, args=args, jac=jac, bounds=bounds,\n\u001b[0;32m--> 193\u001b[0;31m                            **opts)\n\u001b[0m\u001b[1;32m    194\u001b[0m     d = {'grad': res['jac'],\n\u001b[1;32m    195\u001b[0m          \u001b[0;34m'task'\u001b[0m\u001b[0;34m:\u001b[0m \u001b[0mres\u001b[0m\u001b[0;34m[\u001b[0m\u001b[0;34m'message'\u001b[0m\u001b[0;34m]\u001b[0m\u001b[0;34m,\u001b[0m\u001b[0;34m\u001b[0m\u001b[0m\n",
      "\u001b[0;32m/Users/Romain/anaconda/lib/python3.5/site-packages/scipy/optimize/lbfgsb.py\u001b[0m in \u001b[0;36m_minimize_lbfgsb\u001b[0;34m(fun, x0, args, jac, bounds, disp, maxcor, ftol, gtol, eps, maxfun, maxiter, iprint, callback, maxls, **unknown_options)\u001b[0m\n\u001b[1;32m    328\u001b[0m                 \u001b[0;31m# minimization routine wants f and g at the current x\u001b[0m\u001b[0;34m\u001b[0m\u001b[0;34m\u001b[0m\u001b[0m\n\u001b[1;32m    329\u001b[0m                 \u001b[0;31m# Overwrite f and g:\u001b[0m\u001b[0;34m\u001b[0m\u001b[0;34m\u001b[0m\u001b[0m\n\u001b[0;32m--> 330\u001b[0;31m                 \u001b[0mf\u001b[0m\u001b[0;34m,\u001b[0m \u001b[0mg\u001b[0m \u001b[0;34m=\u001b[0m \u001b[0mfunc_and_grad\u001b[0m\u001b[0;34m(\u001b[0m\u001b[0mx\u001b[0m\u001b[0;34m)\u001b[0m\u001b[0;34m\u001b[0m\u001b[0m\n\u001b[0m\u001b[1;32m    331\u001b[0m         \u001b[0;32melif\u001b[0m \u001b[0mtask_str\u001b[0m\u001b[0;34m.\u001b[0m\u001b[0mstartswith\u001b[0m\u001b[0;34m(\u001b[0m\u001b[0;34mb'NEW_X'\u001b[0m\u001b[0;34m)\u001b[0m\u001b[0;34m:\u001b[0m\u001b[0;34m\u001b[0m\u001b[0m\n\u001b[1;32m    332\u001b[0m             \u001b[0;31m# new iteration\u001b[0m\u001b[0;34m\u001b[0m\u001b[0;34m\u001b[0m\u001b[0m\n",
      "\u001b[0;32m/Users/Romain/anaconda/lib/python3.5/site-packages/scipy/optimize/lbfgsb.py\u001b[0m in \u001b[0;36mfunc_and_grad\u001b[0;34m(x)\u001b[0m\n\u001b[1;32m    276\u001b[0m     \u001b[0;32melse\u001b[0m\u001b[0;34m:\u001b[0m\u001b[0;34m\u001b[0m\u001b[0m\n\u001b[1;32m    277\u001b[0m         \u001b[0;32mdef\u001b[0m \u001b[0mfunc_and_grad\u001b[0m\u001b[0;34m(\u001b[0m\u001b[0mx\u001b[0m\u001b[0;34m)\u001b[0m\u001b[0;34m:\u001b[0m\u001b[0;34m\u001b[0m\u001b[0m\n\u001b[0;32m--> 278\u001b[0;31m             \u001b[0mf\u001b[0m \u001b[0;34m=\u001b[0m \u001b[0mfun\u001b[0m\u001b[0;34m(\u001b[0m\u001b[0mx\u001b[0m\u001b[0;34m,\u001b[0m \u001b[0;34m*\u001b[0m\u001b[0margs\u001b[0m\u001b[0;34m)\u001b[0m\u001b[0;34m\u001b[0m\u001b[0m\n\u001b[0m\u001b[1;32m    279\u001b[0m             \u001b[0mg\u001b[0m \u001b[0;34m=\u001b[0m \u001b[0mjac\u001b[0m\u001b[0;34m(\u001b[0m\u001b[0mx\u001b[0m\u001b[0;34m,\u001b[0m \u001b[0;34m*\u001b[0m\u001b[0margs\u001b[0m\u001b[0;34m)\u001b[0m\u001b[0;34m\u001b[0m\u001b[0m\n\u001b[1;32m    280\u001b[0m             \u001b[0;32mreturn\u001b[0m \u001b[0mf\u001b[0m\u001b[0;34m,\u001b[0m \u001b[0mg\u001b[0m\u001b[0;34m\u001b[0m\u001b[0m\n",
      "\u001b[0;32m/Users/Romain/anaconda/lib/python3.5/site-packages/scipy/optimize/optimize.py\u001b[0m in \u001b[0;36mfunction_wrapper\u001b[0;34m(*wrapper_args)\u001b[0m\n\u001b[1;32m    287\u001b[0m     \u001b[0;32mdef\u001b[0m \u001b[0mfunction_wrapper\u001b[0m\u001b[0;34m(\u001b[0m\u001b[0;34m*\u001b[0m\u001b[0mwrapper_args\u001b[0m\u001b[0;34m)\u001b[0m\u001b[0;34m:\u001b[0m\u001b[0;34m\u001b[0m\u001b[0m\n\u001b[1;32m    288\u001b[0m         \u001b[0mncalls\u001b[0m\u001b[0;34m[\u001b[0m\u001b[0;36m0\u001b[0m\u001b[0;34m]\u001b[0m \u001b[0;34m+=\u001b[0m \u001b[0;36m1\u001b[0m\u001b[0;34m\u001b[0m\u001b[0m\n\u001b[0;32m--> 289\u001b[0;31m         \u001b[0;32mreturn\u001b[0m \u001b[0mfunction\u001b[0m\u001b[0;34m(\u001b[0m\u001b[0;34m*\u001b[0m\u001b[0;34m(\u001b[0m\u001b[0mwrapper_args\u001b[0m \u001b[0;34m+\u001b[0m \u001b[0margs\u001b[0m\u001b[0;34m)\u001b[0m\u001b[0;34m)\u001b[0m\u001b[0;34m\u001b[0m\u001b[0m\n\u001b[0m\u001b[1;32m    290\u001b[0m \u001b[0;34m\u001b[0m\u001b[0m\n\u001b[1;32m    291\u001b[0m     \u001b[0;32mreturn\u001b[0m \u001b[0mncalls\u001b[0m\u001b[0;34m,\u001b[0m \u001b[0mfunction_wrapper\u001b[0m\u001b[0;34m\u001b[0m\u001b[0m\n",
      "\u001b[0;32m/Users/Romain/anaconda/lib/python3.5/site-packages/scipy/optimize/optimize.py\u001b[0m in \u001b[0;36m__call__\u001b[0;34m(self, x, *args)\u001b[0m\n\u001b[1;32m     61\u001b[0m     \u001b[0;32mdef\u001b[0m \u001b[0m__call__\u001b[0m\u001b[0;34m(\u001b[0m\u001b[0mself\u001b[0m\u001b[0;34m,\u001b[0m \u001b[0mx\u001b[0m\u001b[0;34m,\u001b[0m \u001b[0;34m*\u001b[0m\u001b[0margs\u001b[0m\u001b[0;34m)\u001b[0m\u001b[0;34m:\u001b[0m\u001b[0;34m\u001b[0m\u001b[0m\n\u001b[1;32m     62\u001b[0m         \u001b[0mself\u001b[0m\u001b[0;34m.\u001b[0m\u001b[0mx\u001b[0m \u001b[0;34m=\u001b[0m \u001b[0mnumpy\u001b[0m\u001b[0;34m.\u001b[0m\u001b[0masarray\u001b[0m\u001b[0;34m(\u001b[0m\u001b[0mx\u001b[0m\u001b[0;34m)\u001b[0m\u001b[0;34m.\u001b[0m\u001b[0mcopy\u001b[0m\u001b[0;34m(\u001b[0m\u001b[0;34m)\u001b[0m\u001b[0;34m\u001b[0m\u001b[0m\n\u001b[0;32m---> 63\u001b[0;31m         \u001b[0mfg\u001b[0m \u001b[0;34m=\u001b[0m \u001b[0mself\u001b[0m\u001b[0;34m.\u001b[0m\u001b[0mfun\u001b[0m\u001b[0;34m(\u001b[0m\u001b[0mx\u001b[0m\u001b[0;34m,\u001b[0m \u001b[0;34m*\u001b[0m\u001b[0margs\u001b[0m\u001b[0;34m)\u001b[0m\u001b[0;34m\u001b[0m\u001b[0m\n\u001b[0m\u001b[1;32m     64\u001b[0m         \u001b[0mself\u001b[0m\u001b[0;34m.\u001b[0m\u001b[0mjac\u001b[0m \u001b[0;34m=\u001b[0m \u001b[0mfg\u001b[0m\u001b[0;34m[\u001b[0m\u001b[0;36m1\u001b[0m\u001b[0;34m]\u001b[0m\u001b[0;34m\u001b[0m\u001b[0m\n\u001b[1;32m     65\u001b[0m         \u001b[0;32mreturn\u001b[0m \u001b[0mfg\u001b[0m\u001b[0;34m[\u001b[0m\u001b[0;36m0\u001b[0m\u001b[0;34m]\u001b[0m\u001b[0;34m\u001b[0m\u001b[0m\n",
      "\u001b[0;32m/Users/Romain/anaconda/lib/python3.5/site-packages/operalib-0.2b2-py3.5.egg/operalib/risk.py\u001b[0m in \u001b[0;36mfunctional_grad_val\u001b[0;34m(self, coefs, ground_truth, phix, ker)\u001b[0m\n\u001b[1;32m    115\u001b[0m             \u001b[0;32mraise\u001b[0m\u001b[0;34m(\u001b[0m\u001b[0;34m'Unsupported kernel'\u001b[0m\u001b[0;34m)\u001b[0m\u001b[0;34m\u001b[0m\u001b[0m\n\u001b[1;32m    116\u001b[0m         return (norm(res) ** 2 / (2 * np) + self.lbda * reg / (2 * np),\n\u001b[0;32m--> 117\u001b[0;31m                 phix.H * res / np + self.lbda * coefs / np)\n\u001b[0m\u001b[1;32m    118\u001b[0m \u001b[0;34m\u001b[0m\u001b[0m\n\u001b[1;32m    119\u001b[0m \u001b[0;34m\u001b[0m\u001b[0m\n",
      "\u001b[0;32m/Users/Romain/anaconda/lib/python3.5/site-packages/scipy/sparse/linalg/interface.py\u001b[0m in \u001b[0;36m__mul__\u001b[0;34m(self, x)\u001b[0m\n\u001b[1;32m    336\u001b[0m \u001b[0;34m\u001b[0m\u001b[0m\n\u001b[1;32m    337\u001b[0m     \u001b[0;32mdef\u001b[0m \u001b[0m__mul__\u001b[0m\u001b[0;34m(\u001b[0m\u001b[0mself\u001b[0m\u001b[0;34m,\u001b[0m \u001b[0mx\u001b[0m\u001b[0;34m)\u001b[0m\u001b[0;34m:\u001b[0m\u001b[0;34m\u001b[0m\u001b[0m\n\u001b[0;32m--> 338\u001b[0;31m         \u001b[0;32mreturn\u001b[0m \u001b[0mself\u001b[0m\u001b[0;34m.\u001b[0m\u001b[0mdot\u001b[0m\u001b[0;34m(\u001b[0m\u001b[0mx\u001b[0m\u001b[0;34m)\u001b[0m\u001b[0;34m\u001b[0m\u001b[0m\n\u001b[0m\u001b[1;32m    339\u001b[0m \u001b[0;34m\u001b[0m\u001b[0m\n\u001b[1;32m    340\u001b[0m     \u001b[0;32mdef\u001b[0m \u001b[0mdot\u001b[0m\u001b[0;34m(\u001b[0m\u001b[0mself\u001b[0m\u001b[0;34m,\u001b[0m \u001b[0mx\u001b[0m\u001b[0;34m)\u001b[0m\u001b[0;34m:\u001b[0m\u001b[0;34m\u001b[0m\u001b[0m\n",
      "\u001b[0;32m/Users/Romain/anaconda/lib/python3.5/site-packages/scipy/sparse/linalg/interface.py\u001b[0m in \u001b[0;36mdot\u001b[0;34m(self, x)\u001b[0m\n\u001b[1;32m    361\u001b[0m \u001b[0;34m\u001b[0m\u001b[0m\n\u001b[1;32m    362\u001b[0m             \u001b[0;32mif\u001b[0m \u001b[0mx\u001b[0m\u001b[0;34m.\u001b[0m\u001b[0mndim\u001b[0m \u001b[0;34m==\u001b[0m \u001b[0;36m1\u001b[0m \u001b[0;32mor\u001b[0m \u001b[0mx\u001b[0m\u001b[0;34m.\u001b[0m\u001b[0mndim\u001b[0m \u001b[0;34m==\u001b[0m \u001b[0;36m2\u001b[0m \u001b[0;32mand\u001b[0m \u001b[0mx\u001b[0m\u001b[0;34m.\u001b[0m\u001b[0mshape\u001b[0m\u001b[0;34m[\u001b[0m\u001b[0;36m1\u001b[0m\u001b[0;34m]\u001b[0m \u001b[0;34m==\u001b[0m \u001b[0;36m1\u001b[0m\u001b[0;34m:\u001b[0m\u001b[0;34m\u001b[0m\u001b[0m\n\u001b[0;32m--> 363\u001b[0;31m                 \u001b[0;32mreturn\u001b[0m \u001b[0mself\u001b[0m\u001b[0;34m.\u001b[0m\u001b[0mmatvec\u001b[0m\u001b[0;34m(\u001b[0m\u001b[0mx\u001b[0m\u001b[0;34m)\u001b[0m\u001b[0;34m\u001b[0m\u001b[0m\n\u001b[0m\u001b[1;32m    364\u001b[0m             \u001b[0;32melif\u001b[0m \u001b[0mx\u001b[0m\u001b[0;34m.\u001b[0m\u001b[0mndim\u001b[0m \u001b[0;34m==\u001b[0m \u001b[0;36m2\u001b[0m\u001b[0;34m:\u001b[0m\u001b[0;34m\u001b[0m\u001b[0m\n\u001b[1;32m    365\u001b[0m                 \u001b[0;32mreturn\u001b[0m \u001b[0mself\u001b[0m\u001b[0;34m.\u001b[0m\u001b[0mmatmat\u001b[0m\u001b[0;34m(\u001b[0m\u001b[0mx\u001b[0m\u001b[0;34m)\u001b[0m\u001b[0;34m\u001b[0m\u001b[0m\n",
      "\u001b[0;32m/Users/Romain/anaconda/lib/python3.5/site-packages/scipy/sparse/linalg/interface.py\u001b[0m in \u001b[0;36mmatvec\u001b[0;34m(self, x)\u001b[0m\n\u001b[1;32m    218\u001b[0m             \u001b[0;32mraise\u001b[0m \u001b[0mValueError\u001b[0m\u001b[0;34m(\u001b[0m\u001b[0;34m'dimension mismatch'\u001b[0m\u001b[0;34m)\u001b[0m\u001b[0;34m\u001b[0m\u001b[0m\n\u001b[1;32m    219\u001b[0m \u001b[0;34m\u001b[0m\u001b[0m\n\u001b[0;32m--> 220\u001b[0;31m         \u001b[0my\u001b[0m \u001b[0;34m=\u001b[0m \u001b[0mself\u001b[0m\u001b[0;34m.\u001b[0m\u001b[0m_matvec\u001b[0m\u001b[0;34m(\u001b[0m\u001b[0mx\u001b[0m\u001b[0;34m)\u001b[0m\u001b[0;34m\u001b[0m\u001b[0m\n\u001b[0m\u001b[1;32m    221\u001b[0m \u001b[0;34m\u001b[0m\u001b[0m\n\u001b[1;32m    222\u001b[0m         \u001b[0;32mif\u001b[0m \u001b[0misinstance\u001b[0m\u001b[0;34m(\u001b[0m\u001b[0mx\u001b[0m\u001b[0;34m,\u001b[0m \u001b[0mnp\u001b[0m\u001b[0;34m.\u001b[0m\u001b[0mmatrix\u001b[0m\u001b[0;34m)\u001b[0m\u001b[0;34m:\u001b[0m\u001b[0;34m\u001b[0m\u001b[0m\n",
      "\u001b[0;32m/Users/Romain/anaconda/lib/python3.5/site-packages/scipy/sparse/linalg/interface.py\u001b[0m in \u001b[0;36m_matvec\u001b[0;34m(self, x)\u001b[0m\n\u001b[1;32m    470\u001b[0m \u001b[0;34m\u001b[0m\u001b[0m\n\u001b[1;32m    471\u001b[0m     \u001b[0;32mdef\u001b[0m \u001b[0m_matvec\u001b[0m\u001b[0;34m(\u001b[0m\u001b[0mself\u001b[0m\u001b[0;34m,\u001b[0m \u001b[0mx\u001b[0m\u001b[0;34m)\u001b[0m\u001b[0;34m:\u001b[0m\u001b[0;34m\u001b[0m\u001b[0m\n\u001b[0;32m--> 472\u001b[0;31m         \u001b[0;32mreturn\u001b[0m \u001b[0mself\u001b[0m\u001b[0;34m.\u001b[0m\u001b[0m__matvec_impl\u001b[0m\u001b[0;34m(\u001b[0m\u001b[0mx\u001b[0m\u001b[0;34m)\u001b[0m\u001b[0;34m\u001b[0m\u001b[0m\n\u001b[0m\u001b[1;32m    473\u001b[0m \u001b[0;34m\u001b[0m\u001b[0m\n\u001b[1;32m    474\u001b[0m     \u001b[0;32mdef\u001b[0m \u001b[0m_rmatvec\u001b[0m\u001b[0;34m(\u001b[0m\u001b[0mself\u001b[0m\u001b[0;34m,\u001b[0m \u001b[0mx\u001b[0m\u001b[0;34m)\u001b[0m\u001b[0;34m:\u001b[0m\u001b[0;34m\u001b[0m\u001b[0m\n",
      "\u001b[0;32m/Users/Romain/anaconda/lib/python3.5/site-packages/operalib-0.2b2-py3.5.egg/operalib/kernels.py\u001b[0m in \u001b[0;36m<lambda>\u001b[0;34m(r)\u001b[0m\n\u001b[1;32m    263\u001b[0m                                   rmatvec=lambda r: dot(Xb.T,\n\u001b[1;32m    264\u001b[0m                                                         dot(r.reshape(rshape),\n\u001b[0;32m--> 265\u001b[0;31m                                                             self.B_.T)))\n\u001b[0m\u001b[1;32m    266\u001b[0m \u001b[0;34m\u001b[0m\u001b[0m\n\u001b[1;32m    267\u001b[0m     \u001b[0;32mdef\u001b[0m \u001b[0m__call__\u001b[0m\u001b[0;34m(\u001b[0m\u001b[0mself\u001b[0m\u001b[0;34m,\u001b[0m \u001b[0mX\u001b[0m\u001b[0;34m,\u001b[0m \u001b[0mY\u001b[0m\u001b[0;34m=\u001b[0m\u001b[0;32mNone\u001b[0m\u001b[0;34m)\u001b[0m\u001b[0;34m:\u001b[0m\u001b[0;34m\u001b[0m\u001b[0m\n",
      "\u001b[0;31mKeyboardInterrupt\u001b[0m: "
     ]
    }
   ],
   "source": [
    "print('ORFF N experiment')\n",
    "isp = np.logspace(1, np.log10(n), 10).astype(np.int)\n",
    "rffe = np.zeros(isp.size)\n",
    "rfft = np.zeros(isp.size)\n",
    "for s, idx in enumerate(isp):\n",
    "    start = time.time()\n",
    "    est = ovk.ORFFRidge(D=1000, gamma=.05, A=np.corrcoef(y[:idx, :].T), lbda=0.5, solver_params={'m': 1000, 'pgtol':1e-10})\n",
    "    est.fit(X[:idx, :], y[:idx, :])\n",
    "    rfft[s] = time.time() - start\n",
    "    rffe[s] = est.score(Xtest, ytest)\n",
    "    print(rffe[s], rfft[s])\n",
    "\n",
    "# 0.236899674637 0.103250980377\n",
    "# 0.527694412155 0.108303070068\n",
    "# 0.67857710605 0.135638952255\n",
    "# 0.724887464948 0.20653295517\n",
    "# 0.764972994635 0.352342128754\n",
    "# 0.80052722158 0.696653842926\n",
    "# 0.819316882565 3.11643481255\n",
    "# 0.828394395698 8.63426709175\n",
    "# 0.833212992284 38.4490571022\n"
   ]
  },
  {
   "cell_type": "code",
   "execution_count": 114,
   "metadata": {
    "collapsed": false
   },
   "outputs": [
    {
     "data": {
      "image/png": "[encoded data removed]",
      "text/plain": [
       "<matplotlib.figure.Figure at 0x2a3b6b4a8>"
      ]
     },
     "metadata": {},
     "output_type": "display_data"
    }
   ],
   "source": [
    "sns.set_style(\"whitegrid\")\n",
    "fig, ((ax1, ax2), (ax3, ax4)) = plt.subplots(nrows=2, ncols=2,figsize=(15,10))\n",
    "ax1.semilogx(np.logspace(0, 5, 10), rffe, label='ORFF, D=1000', marker='s')\n",
    "ax1.semilogx(np.logspace(0, 5, 10)[:-4], ovke[:-4], label='OVK', marker='v')\n",
    "ax1.hlines(rffe.max(), xmin=1, xmax=1e5, colors='b', linestyle='--')\n",
    "ax1.hlines(np.nanmax(ovke), xmin=1, xmax=np.logspace(0, 5, 10)[-5], colors='g', linestyle='--')\n",
    "ax1.set_xlabel('Data seen (N)')\n",
    "ax1.set_ylabel('score (R2)')\n",
    "ax1.legend(loc=4)\n",
    "\n",
    "ax2.loglog(np.logspace(0, 5, 10), rfft, label='ORFF', marker='s')\n",
    "ax2.loglog(np.logspace(0, 5, 10)[:-4], ovkt[:-4], label='OVK', marker='v')\n",
    "ax2.hlines(rfft.max(), xmin=1, xmax=1e5, colors='b', linestyle='--')\n",
    "ax2.hlines(np.nanmax(ovkt), xmin=1, xmax=np.logspace(0, 5, 10)[-5], colors='g', linestyle='--')\n",
    "ax2.set_xlabel('Data seen (N)')\n",
    "ax2.set_ylabel('time (s)')\n",
    "ax2.legend(loc=4)\n",
    "\n",
    "ax3.semilogx(np.logspace(0, 5, 10), rffDe, label='ORFF', marker='s')\n",
    "ax3.semilogx(np.logspace(0, 5, 10), np.full(10, ovkDe), label='OVK, N=2000', marker='v')\n",
    "ax3.set_xlabel('Features (D)')\n",
    "ax3.set_ylabel('score (R2)')\n",
    "ax3.legend(loc=4)\n",
    "\n",
    "ax4.loglog(np.logspace(0, 5, 10), rffDt, label='ORFF', marker='s')\n",
    "ax4.loglog(np.logspace(0, 5, 10), np.full(10, ovkDt), label='OVK, N=2000', marker='v')\n",
    "ax4.set_xlabel('Features (D)')\n",
    "ax4.set_ylabel('time (s)')\n",
    "ax4.legend(loc=4)\n",
    "\n",
    "plt.savefig(\"ORFFFvsOVK.pgf\")\n",
    "plt.show()"
   ]
  },
  {
   "cell_type": "code",
   "execution_count": 13,
   "metadata": {
    "collapsed": true
   },
   "outputs": [],
   "source": [
    "rfft = np.array([[0.0120591557509, 0.00133902997416, 0.0125810353844, 0.00114571988816],\n",
    "     [0.00905522578424, 0.00110402599727, 0.00916967740604, 0.00190716299587],\n",
    " [0.00605162965846, 0.00216627061, 0.0057021970048, 0.00107964526861],\n",
    "     [0.00188498493437, 0.000828091743613, 0.00136808799011, 0.000332307256495],\n",
    "     [0.000396177539046, 0.00012274506262, 0.000727813801351, 0.000389875762973],\n",
    "     [0.000153905492742, 2.32168043535e-05, 0.000244764810346, 2.99982845109e-05],\n",
    "     [0.000121041868716, 1.18031890692e-05, 0.000169295187686, 7.83332428913e-06],\n",
    "     [0.000117604411571, 4.00452934589e-06, 0.000147379852253, 6.64847775774e-06],\n",
    "                         [0.000114728354444, 5.14834247845e-06, 0.00013677230931, 2.13454224228e-06],\n",
    "         [0.000112568705736, 2.74320834101e-06, 0.00013388971594, 2.36851247139e-06]])\n",
    "rfft = rfft.mean(axis=1)"
   ]
  },
  {
   "cell_type": "code",
   "execution_count": 14,
   "metadata": {
    "collapsed": true
   },
   "outputs": [],
   "source": [
    "rfft2 = np.array([[0.0114381539887, 0.0019815011715, 0.0122423827601, 0.000780571846635],\n",
    "[0.00922552896592, 0.00152372926518, 0.00785853403298, 0.00192669811658],\n",
    "[0.00450229145372, 0.000960810174884, 0.00518120344563, 0.00205233243161],\n",
    "[0.00176481843228, 0.000531513513339, 0.00154461402441, 0.000435369014596],\n",
    "[0.000401084517807, 0.000206348997032, 0.000563318849189, 0.00014817218616],\n",
    "[0.000174540737513, 3.77647000288e-05, 0.000231745481109, 1.77243562457e-05],\n",
    "[0.000123043538011, 1.69935694718e-05, 0.000171137059513, 1.77070085072e-05],\n",
    "[0.000115967581867, 2.02023000702e-06, 0.000138833884591, 6.32963044084e-06],\n",
    "[0.000114310056621, 4.27595746276e-06, 0.000133951473097, 4.93090793059e-06],\n",
    "[0.00011631031317, 1.91359313885e-06, 0.00012940566223, 1.54101320477e-06]])\n",
    "rfft2 = rfft2.mean(axis=1)"
   ]
  },
  {
   "cell_type": "code",
   "execution_count": 25,
   "metadata": {
    "collapsed": false
   },
   "outputs": [
    {
     "data": {
      "image/png": "[encoded data removed]",
      "text/plain": [
       "<matplotlib.figure.Figure at 0x11173bef0>"
      ]
     },
     "metadata": {},
     "output_type": "display_data"
    }
   ],
   "source": [
    "sns.set_style(\"whitegrid\")\n",
    "fig, ((ax1, ax2), (ax3, ax4)) = plt.subplots(nrows=2, ncols=2,figsize=(15,10))\n",
    "# ax1.semilogx(np.logspace(0, 5, 10), rffe, label='ORFF, D=1000', marker='s')\n",
    "# ax1.semilogx(np.logspace(0, 5, 10)[:-4], ovke[:-4], label='OVK', marker='v')\n",
    "# ax1.hlines(rffe.max(), xmin=1, xmax=1e5, colors='b', linestyle='--')\n",
    "# ax1.hlines(np.nanmax(ovke), xmin=1, xmax=np.logspace(0, 5, 10)[-5], colors='g', linestyle='--')\n",
    "# ax1.set_xlabel('Data seen (N)')\n",
    "# ax1.set_ylabel('score (R2)')\n",
    "# ax1.legend(loc=4)\n",
    "\n",
    "# % yhcf = 0.000101268829426\n",
    "# % yhdec = 0.000123507280762\n",
    "\n",
    "ax2.loglog(np.logspace(0, 4, 10), rfft, label='ORFF', marker='s')\n",
    "# ax2.loglog(np.logspace(0, 5, 10)[:-4], ovkt[:-4], label='OVK', marker='v')\n",
    "ax2.hlines(0.000101268829426, xmin=1, xmax=1e4, colors='b', linestyle='--')\n",
    "ax2.hlines(0.000123507280762, xmin=1, xmax=1e4, colors='g', linestyle='--')\n",
    "ax2.set_xlabel('Data seen (N)')\n",
    "ax2.set_ylabel('time (s)')\n",
    "ax2.legend(loc=4)\n",
    "\n",
    "# ax3.semilogx(np.logspace(0, 5, 10), rffDe, label='ORFF', marker='s')\n",
    "# ax3.semilogx(np.logspace(0, 5, 10), np.full(10, ovkDe), label='OVK, N=2000', marker='v')\n",
    "# ax3.set_xlabel('Features (D)')\n",
    "# ax3.set_ylabel('score (R2)')\n",
    "# ax3.legend(loc=4)\n",
    "\n",
    "# ax4.loglog(np.logspace(0, 5, 10), rffDt, label='ORFF', marker='s')\n",
    "# ax4.loglog(np.logspace(0, 5, 10), np.full(10, ovkDt), label='OVK, N=2000', marker='v')\n",
    "# ax4.set_xlabel('Features (D)')\n",
    "# ax4.set_ylabel('time (s)')\n",
    "# ax4.legend(loc=4)\n",
    "\n",
    "plt.savefig(\"ORFFFvsOVK_MNIST.pgf\")\n",
    "plt.show()"
   ]
  },
  {
   "cell_type": "code",
   "execution_count": 9,
   "metadata": {
    "collapsed": false
   },
   "outputs": [
    {
     "data": {
      "text/plain": [
       "array([[  1.20591558e-02,   1.33902997e-03,   1.25810354e-02,\n",
       "          1.14571989e-03],\n",
       "       [  9.05522578e-03,   1.10402600e-03,   9.16967741e-03,\n",
       "          1.90716300e-03],\n",
       "       [  6.05162966e-03,   2.16627061e-03,   5.70219700e-03,\n",
       "          1.07964527e-03],\n",
       "       [  1.88498493e-03,   8.28091744e-04,   1.36808799e-03,\n",
       "          3.32307256e-04],\n",
       "       [  3.96177539e-04,   1.22745063e-04,   7.27813801e-04,\n",
       "          3.89875763e-04],\n",
       "       [  1.53905493e-04,   2.32168044e-05,   2.44764810e-04,\n",
       "          2.99982845e-05],\n",
       "       [  1.21041869e-04,   1.18031891e-05,   1.69295188e-04,\n",
       "          7.83332429e-06],\n",
       "       [  1.17604412e-04,   4.00452935e-06,   1.47379852e-04,\n",
       "          6.64847776e-06],\n",
       "       [  1.14728354e-04,   5.14834248e-06,   1.36772309e-04,\n",
       "          2.13454224e-06],\n",
       "       [  1.12568706e-04,   2.74320834e-06,   1.33889716e-04,\n",
       "          2.36851247e-06]])"
      ]
     },
     "execution_count": 9,
     "metadata": {},
     "output_type": "execute_result"
    }
   ],
   "source": [
    "rfft"
   ]
  },
  {
   "cell_type": "code",
   "execution_count": 4,
   "metadata": {
    "collapsed": false
   },
   "outputs": [],
   "source": [
    "%matplotlib inline\n",
    "\n",
    "import numpy as np\n",
    "import pyov2sgd\n",
    "import time\n",
    "import operalib\n",
    "import matplotlib.pyplot as plt\n",
    "import scipy.io as sio\n",
    "\n",
    "from sklearn.cross_validation import KFold\n",
    "from sklearn.utils import shuffle\n",
    "from sklearn import preprocessing\n",
    "\n",
    "from scipy.spatial.distance import pdist, squareform\n",
    "\n",
    "# np.set_printoptions(threshold=np.nan)\n",
    "# np.random.seed(np.random.randint(1000))\n",
    "data = sio.loadmat('example/sarcos_inv.mat')\n",
    "X_train = data['sarcos_inv'][:, :21].astype(np.float)\n",
    "y_train = data['sarcos_inv'][:, 21:].astype(np.float)\n",
    "\n",
    "\n",
    "data = sio.loadmat('example/sarcos_inv_test.mat')\n",
    "X_test = data['sarcos_inv_test'][:, :21].astype(np.float)\n",
    "y_test = data['sarcos_inv_test'][:, 21:].astype(np.float)\n",
    "\n",
    "scaler_y = preprocessing.StandardScaler().fit(y_train)\n",
    "yytr = scaler_y.transform(y_train)\n",
    "yyte = scaler_y.transform(y_test)\n",
    "sim = pdist(yytr.T) ** 2\n",
    "# print sim\n",
    "M = np.exp(- 1. / np.median(sim) * squareform(sim))\n",
    "D = np.sum(M, axis=0) + np.diag(M)\n",
    "L = np.linalg.pinv(np.diag(D) - M)\n",
    "\n",
    "# print('sim', L)\n",
    "\n",
    "\n",
    "# print('sigma', sigma)\n",
    "\n",
    "d = X_train.shape[1]\n",
    "p = y_train.shape[1]\n",
    "\n",
    "\n",
    "samples_train = 50\n",
    "samples_test = y_test.shape[0]\n",
    "tasks = 7\n",
    "n = samples_train * tasks"
   ]
  },
  {
   "cell_type": "code",
   "execution_count": 5,
   "metadata": {
    "collapsed": true
   },
   "outputs": [],
   "source": [
    "scaler_X = preprocessing.StandardScaler().fit(X_train)\n",
    "X_train_s = scaler_X.transform(X_train)\n",
    "X_test_s = scaler_X.transform(X_test)"
   ]
  },
  {
   "cell_type": "code",
   "execution_count": 74,
   "metadata": {
    "collapsed": false
   },
   "outputs": [
    {
     "data": {
      "text/plain": [
       "ORFFRidge(A=None, D=1000, gamma=0.0001, lbda=0.001, ovkernel='DGauss',\n",
       "     solver=<function fmin_l_bfgs_b at 0x10ce8e158>,\n",
       "     solver_params={'m': 1000, 'pgtol': 1e-10})"
      ]
     },
     "execution_count": 74,
     "metadata": {},
     "output_type": "execute_result"
    }
   ],
   "source": [
    "est = ovk.ORFFRidge(D=1000, gamma=.0001, lbda=.001, solver_params={'m': 1000, 'pgtol':1e-10})\n",
    "est.fit(X_train_s, y_train)"
   ]
  },
  {
   "cell_type": "code",
   "execution_count": 75,
   "metadata": {
    "collapsed": false
   },
   "outputs": [
    {
     "data": {
      "text/plain": [
       "0.96386000266363614"
      ]
     },
     "execution_count": 75,
     "metadata": {},
     "output_type": "execute_result"
    }
   ],
   "source": [
    "est.score(X_train_s, y_train)"
   ]
  },
  {
   "cell_type": "code",
   "execution_count": 76,
   "metadata": {
    "collapsed": false
   },
   "outputs": [
    {
     "data": {
      "text/plain": [
       "0.96406311499650688"
      ]
     },
     "execution_count": 76,
     "metadata": {},
     "output_type": "execute_result"
    }
   ],
   "source": [
    "est.score(X_test_s, y_test)"
   ]
  },
  {
   "cell_type": "code",
   "execution_count": 80,
   "metadata": {
    "collapsed": false
   },
   "outputs": [
    {
     "data": {
      "text/plain": [
       "OVKRidge(A=None, autocorr_params=None, gamma=0.0001, lbda=0.001,\n",
       "     ovkernel='DGauss', period='autocorr',\n",
       "     solver=<function fmin_l_bfgs_b at 0x10ce8e158>,\n",
       "     solver_params={'m': 1000, 'pgtol': 1e-10}, theta=0.7)"
      ]
     },
     "execution_count": 80,
     "metadata": {},
     "output_type": "execute_result"
    }
   ],
   "source": [
    "est = ovk.OVKRidge(gamma=.0001, lbda=.001, solver_params={'m': 1000, 'pgtol':1e-10})\n",
    "est.fit(X_train_s[:1000, :], y_train[:1000, :])"
   ]
  },
  {
   "cell_type": "code",
   "execution_count": 81,
   "metadata": {
    "collapsed": false
   },
   "outputs": [
    {
     "data": {
      "text/plain": [
       "0.66112756726304411"
      ]
     },
     "execution_count": 81,
     "metadata": {},
     "output_type": "execute_result"
    }
   ],
   "source": [
    "est.score(X_train_s, y_train)"
   ]
  },
  {
   "cell_type": "code",
   "execution_count": 82,
   "metadata": {
    "collapsed": false
   },
   "outputs": [
    {
     "data": {
      "text/plain": [
       "0.65977232128785124"
      ]
     },
     "execution_count": 82,
     "metadata": {},
     "output_type": "execute_result"
    }
   ],
   "source": [
    "est.score(X_test_s, y_test)"
   ]
  },
  {
   "cell_type": "code",
   "execution_count": 89,
   "metadata": {
    "collapsed": false
   },
   "outputs": [
    {
     "data": {
      "text/plain": [
       "ORFFRidge(A=array([[ 0.35667,  0.10079,  0.107  ,  0.11802,  0.09989,  0.10237,\n",
       "         0.11526],\n",
       "       [ 0.10079,  0.45358,  0.08301,  0.08679,  0.09162,  0.09861,  0.0856 ],\n",
       "       [ 0.107  ,  0.08301,  0.33109,  0.12469,  0.12077,  0.10689,\n",
       "         0.12654],\n",
       "       [ 0.11802,  0.08679,  0.12469,  0.3226...,  0.101  ],\n",
       "       [ 0.11526,  0.0856 ,  0.12654,  0.1342 ,  0.11294,  0.101  ,\n",
       "         0.32445]]),\n",
       "     D=1000, gamma=0.1, lbda=0.0, ovkernel='DGauss',\n",
       "     solver=<function fmin_l_bfgs_b at 0x10bc70d90>,\n",
       "     solver_params={'pgtol': 1e-10, 'm': 1000})"
      ]
     },
     "execution_count": 89,
     "metadata": {},
     "output_type": "execute_result"
    }
   ],
   "source": [
    "est = ovk.ORFFRidge(D=1000, A=L, gamma=.1, lbda=0., solver_params={'m': 1000, 'pgtol':1e-10})\n",
    "est.fit(X_train_s, y_train)"
   ]
  },
  {
   "cell_type": "code",
   "execution_count": 90,
   "metadata": {
    "collapsed": false
   },
   "outputs": [
    {
     "data": {
      "text/plain": [
       "0.93564336802155634"
      ]
     },
     "execution_count": 90,
     "metadata": {},
     "output_type": "execute_result"
    }
   ],
   "source": [
    "est.score(X_train_s, y_train)"
   ]
  },
  {
   "cell_type": "code",
   "execution_count": 91,
   "metadata": {
    "collapsed": false
   },
   "outputs": [
    {
     "data": {
      "text/plain": [
       "0.93586931670759244"
      ]
     },
     "execution_count": 91,
     "metadata": {},
     "output_type": "execute_result"
    }
   ],
   "source": [
    "est.score(X_test_s, y_test)"
   ]
  },
  {
   "cell_type": "code",
   "execution_count": null,
   "metadata": {
    "collapsed": true
   },
   "outputs": [],
   "source": [
    "print(L)"
   ]
  }
 ],
 "metadata": {
  "anaconda-cloud": {},
  "kernelspec": {
   "display_name": "Python [Root]",
   "language": "python",
   "name": "Python [Root]"
  },
  "language_info": {
   "codemirror_mode": {
    "name": "ipython",
    "version": 3
   },
   "file_extension": ".py",
   "mimetype": "text/x-python",
   "name": "python",
   "nbconvert_exporter": "python",
   "pygments_lexer": "ipython3",
   "version": "3.5.1"
  },
  "nbpresent": {
   "slides": {
    "389a7ca6-bca8-4b58-b2a1-141139e6c687": {
     "id": "389a7ca6-bca8-4b58-b2a1-141139e6c687",
     "layout": "grid",
     "prev": null,
     "regions": {
      "7400312f-deb9-4378-b943-43ad5a48a1a8": {
       "attrs": {
        "height": 1,
        "pad": 0.01,
        "treemap:weight": 1,
        "width": 1,
        "x": 0,
        "y": 0
       },
       "id": "7400312f-deb9-4378-b943-43ad5a48a1a8"
      },
      "b6e79628-cb15-45cc-907f-b7623015c2c0": {
       "attrs": {
        "height": 0.8333333333333334,
        "pad": 0.01,
        "width": 0.8333333333333334,
        "x": 0.08333333333333333,
        "y": 0.08333333333333333
       },
       "id": "b6e79628-cb15-45cc-907f-b7623015c2c0"
      }
     }
    },
    "7952b421-ab37-46c1-b49d-7c69205bdf9f": {
     "id": "7952b421-ab37-46c1-b49d-7c69205bdf9f",
     "prev": "389a7ca6-bca8-4b58-b2a1-141139e6c687",
     "regions": {
      "2c27197d-36bd-4647-9141-2dfdb465c16c": {
       "attrs": {
        "height": 0.8,
        "width": 0.45000000000000007,
        "x": 0.05,
        "y": 0.1
       },
       "id": "2c27197d-36bd-4647-9141-2dfdb465c16c"
      },
      "f1511ff9-3634-49a1-8b0a-fbd184f285c6": {
       "attrs": {
        "height": 0.8,
        "width": 0.45,
        "x": 0.5,
        "y": 0.1
       },
       "id": "f1511ff9-3634-49a1-8b0a-fbd184f285c6"
      }
     }
    }
   },
   "themes": {}
  },
  "widgets": {
   "state": {},
   "version": "1.1.2"
  }
 },
 "nbformat": 4,
 "nbformat_minor": 0
}
