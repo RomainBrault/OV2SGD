{
 "cells": [
  {
   "cell_type": "code",
   "execution_count": 8,
   "metadata": {
    "collapsed": false
   },
   "outputs": [
    {
     "name": "stderr",
     "output_type": "stream",
     "text": [
      "/Users/Romain/anaconda/lib/python3.5/site-packages/matplotlib/__init__.py:1350: UserWarning:  This call to matplotlib.use() has no effect\n",
      "because the backend has already been chosen;\n",
      "matplotlib.use() must be called *before* pylab, matplotlib.pyplot,\n",
      "or matplotlib.backends is imported for the first time.\n",
      "\n",
      "  warnings.warn(_use_error_msg)\n"
     ]
    }
   ],
   "source": [
    "import matplotlib\n",
    "matplotlib.use('pgf')\n",
    "\n",
    "%matplotlib inline\n",
    "import numpy as np\n",
    "\n",
    "import matplotlib.pyplot as plt\n",
    "import seaborn as sns\n",
    "import pyov2sgd\n",
    "import time\n",
    "import pandas as pd\n",
    "import statsmodels.tsa.api as tsa\n",
    "import statsmodels.api as sm\n",
    "\n",
    "from IPython import display\n",
    "from sklearn.kernel_approximation import RBFSampler\n",
    "from sklearn.metrics import roc_auc_score\n",
    "from matplotlib.colors import LogNorm\n",
    "from sklearn.preprocessing import StandardScaler"
   ]
  },
  {
   "cell_type": "code",
   "execution_count": 98,
   "metadata": {
    "collapsed": false
   },
   "outputs": [
    {
     "name": "stdout",
     "output_type": "stream",
     "text": [
      "1743\n"
     ]
    }
   ],
   "source": [
    "data = pd.read_csv('/Users/Romain/Downloads/gesture_phase_dataset/a1_va3.csv')\n",
    "data\n",
    "# data = data.drop('timestamp', 1)\n",
    "# data = data.drop('phase', 1)\n",
    "data = data.drop('Phase', 1)\n",
    "serie = data.as_matrix()\n",
    "s = StandardScaler()\n",
    "serie = s.fit_transform(serie)\n",
    "\n",
    "Nmax = serie.shape[0]\n",
    "print(Nmax)\n",
    "N = Nmax\n",
    "serie = serie[:N, 1:]\n",
    "p = serie.shape[1]"
   ]
  },
  {
   "cell_type": "code",
   "execution_count": 99,
   "metadata": {
    "collapsed": false
   },
   "outputs": [
    {
     "data": {
      "text/plain": [
       "<matplotlib.figure.Figure at 0x115bbec18>"
      ]
     },
     "metadata": {},
     "output_type": "display_data"
    },
    {
     "name": "stdout",
     "output_type": "stream",
     "text": [
      "test: 1.250752~4.149847 in 0.000001s\n"
     ]
    }
   ],
   "source": [
    "Nw = 200\n",
    "err = np.empty(len(range(Nw, N)))\n",
    "err_t = np.empty(len(range(Nw, N)))\n",
    "for (idx, i) in enumerate(range(Nw, N)):\n",
    "    start = time.time()\n",
    "    stop = time.time()\n",
    "    pred = serie[i - 1:i, :]\n",
    "\n",
    "    err[idx] = np.mean((serie[i, :] - pred) ** 2)\n",
    "\n",
    "#     display.clear_output(wait=True)\n",
    "#     display.display(plt.gcf())\n",
    "#     plt.cla()\n",
    "#     plt.plot(serie[:, 0])\n",
    "# #     plt.plot(range(i - Nw + order, i + 1), np.hstack((window[order:, 0], serie[i, 0])))\n",
    "#     plt.plot(range(i - Nw + 1, i + 1), np.hstack((serie[i - Nw + 1:i, 0], serie[i - 1, 0])))\n",
    "#     plt.xlim(0, N)\n",
    "#     plt.ylim(serie.min(), serie.max())\n",
    "    \n",
    "display.clear_output(wait=True)\n",
    "display.display(plt.gcf())\n",
    "plt.close()\n",
    "\n",
    "print('test: %f~%f in %fs' % (np.mean(err), np.std(err), stop - start))"
   ]
  },
  {
   "cell_type": "code",
   "execution_count": 100,
   "metadata": {
    "collapsed": false
   },
   "outputs": [
    {
     "data": {
      "image/png": "[encoded data removed]",
      "text/plain": [
       "<matplotlib.figure.Figure at 0x1146df588>"
      ]
     },
     "metadata": {},
     "output_type": "display_data"
    },
    {
     "name": "stdout",
     "output_type": "stream",
     "text": [
      "train: 0.440565~0.220412 in 0.002531s\n",
      "test: 0.979594~3.370464 in 0.002531s\n"
     ]
    }
   ],
   "source": [
    "Nw = 200\n",
    "order = 1\n",
    "err = np.empty(len(range(Nw, N)))\n",
    "err_t = np.empty(len(range(Nw, N)))\n",
    "for (idx, i) in enumerate(range(Nw, N)):\n",
    "    start = time.time()\n",
    "    model = tsa.VAR(serie[i - Nw:i, :])\n",
    "    results = model.fit(order, trend='c')\n",
    "    stop = time.time()\n",
    "    pred = results.forecast(serie[i - order:i, :], 1)\n",
    "\n",
    "    err_t[idx] = np.mean((serie[i - Nw + order:i, :] - \n",
    "                          results.fittedvalues[0:Nw - 1, :]) ** 2)\n",
    "    err[idx] = np.mean((serie[i, :] - pred) ** 2)\n",
    "    \n",
    "display.clear_output(wait=True)\n",
    "display.display(plt.gcf())\n",
    "plt.cla()\n",
    "plt.plot(serie[i - Nw + order:i + 1, 0])\n",
    "plt.plot(np.hstack((results.fittedvalues[:, 0], pred[0, 0])))\n",
    "\n",
    "display.clear_output(wait=True)\n",
    "display.display(plt.gcf())\n",
    "plt.close()\n",
    "\n",
    "print('train: %f~%f in %fs' % (np.mean(err_t), np.std(err_t), stop - start))\n",
    "print('test: %f~%f in %fs' % (np.mean(err), np.std(err), stop - start))"
   ]
  },
  {
   "cell_type": "code",
   "execution_count": 149,
   "metadata": {
    "collapsed": false
   },
   "outputs": [
    {
     "data": {
      "image/png": "[encoded data removed]",
      "text/plain": [
       "<matplotlib.figure.Figure at 0x1158ee908>"
      ]
     },
     "metadata": {},
     "output_type": "display_data"
    },
    {
     "name": "stdout",
     "output_type": "stream",
     "text": [
      "train: 0.444200~0.219690 in 0.008410s\n",
      "test: 0.741178~2.999159 in 0.008410s\n"
     ]
    }
   ],
   "source": [
    "eta0 = 1.\n",
    "lbda = 0.001\n",
    "nu = 0.\n",
    "cond = 1e-10\n",
    "cap = -1\n",
    "T = 2\n",
    "block = 50\n",
    "L = pyov2sgd.RidgeLoss()\n",
    "B = pyov2sgd.DecomposableGaussian(np.eye(p), 20)\n",
    "# B = pyov2sgd.DecomposableSkewedChi2(np.eye(p), 20)\n",
    "C = pyov2sgd.InverseScaling(eta0, 0, 0)\n",
    "\n",
    "Nw = 200\n",
    "order = 1\n",
    "err = np.empty(len(range(Nw, N)))\n",
    "err_t = np.empty(len(range(Nw, N)))\n",
    "time_t = np.empty(len(range(Nw, N)))\n",
    "plt.figure(figsize=(16, 8))\n",
    "for (idx, i) in enumerate(range(Nw, N)):\n",
    "\n",
    "    s = StandardScaler()\n",
    "    window = s.fit_transform(serie[i - Nw:i, :])\n",
    "#     window = serie[i - Nw:i, :]\n",
    "    X = np.hstack((window[o:-(order - o), :] for o in range(order))).copy()\n",
    "    y = window[order:, :].copy()\n",
    "    batch = X.shape[0]\n",
    "\n",
    "    estimator = pyov2sgd.DSOVK(L, B, C, p, lbda, nu, T, \n",
    "                               batch, block, cap, cond)\n",
    "    start = time.time()\n",
    "    estimator.fit_dense(X, y)\n",
    "    stop = time.time()\n",
    "    time_t[idx] = stop - start\n",
    "\n",
    "    pred = s.inverse_transform(estimator.predict_dense(np.hstack((s.transform(serie[i - (order - o):i - (order - o) + 1, :]) for o in range(order)))))[0]\n",
    "#     pred = estimator.predict_dense(np.hstack((serie[i - (order - o):i - (order - o) + 1, :]) for o in range(order)))[0]\n",
    "    err[idx] = np.mean((serie[i, :] - pred) ** 2)\n",
    "\n",
    "    pred_t = s.inverse_transform(estimator.predict_dense(np.hstack((window[o:-(order - o), :] for o in range(order))).copy()))\n",
    "#     pred_t = estimator.predict_dense(np.hstack((window[o:-(order - o), :] for o in range(order))).copy())\n",
    "    err_t[idx] = np.mean((serie[i - Nw + order:i, :] - pred_t) ** 2)\n",
    "    \n",
    "    \n",
    "display.clear_output(wait=True)\n",
    "display.display(plt.gcf())\n",
    "plt.cla()\n",
    "plt.plot(serie[:, 0])\n",
    "#     plt.plot(range(i - Nw + order, i + 1), np.hstack((window[order:, 0], serie[i, 0])))\n",
    "plt.plot(range(i - Nw + order, i + 1), np.hstack((pred_t[:, 0], pred[0])))\n",
    "plt.xlim(0, N)\n",
    "plt.ylim(serie.min(), serie.max())\n",
    "\n",
    "display.clear_output(wait=True)\n",
    "display.display(plt.gcf())\n",
    "plt.close()\n",
    "\n",
    "print('train: %f~%f in %fs' % (np.mean(err_t), np.std(err_t), np.mean(time_t)))\n",
    "print('test: %f~%f in %fs' % (np.mean(err), np.std(err), np.mean(time_t)))"
   ]
  },
  {
   "cell_type": "code",
   "execution_count": 148,
   "metadata": {
    "collapsed": false
   },
   "outputs": [
    {
     "data": {
      "text/plain": [
       "0.104388142392508"
      ]
     },
     "execution_count": 148,
     "metadata": {},
     "output_type": "execute_result"
    }
   ],
   "source": [
    "np.mean(err_t[0:10])"
   ]
  },
  {
   "cell_type": "code",
   "execution_count": 155,
   "metadata": {
    "collapsed": false
   },
   "outputs": [
    {
     "data": {
      "text/plain": [
       "<matplotlib.figure.Figure at 0x115366c18>"
      ]
     },
     "metadata": {},
     "output_type": "display_data"
    },
    {
     "name": "stdout",
     "output_type": "stream",
     "text": [
      "train: 8738670704564.320312~342930661684540.937500 in 4.470725s\n",
      "test: 117600894324160197578538876928.000000~4615014693057591355161706496000.000000 in 4.470725s\n"
     ]
    }
   ],
   "source": [
    "import operalib as ovk\n",
    "\n",
    "Nw = 200\n",
    "order = 1\n",
    "err = np.empty(len(range(Nw, N)))\n",
    "err_t = np.empty(len(range(Nw, N)))\n",
    "for (idx, i) in enumerate(range(Nw, N)):\n",
    "    s = StandardScaler()\n",
    "    window = s.fit_transform(serie[i - Nw:i, :])\n",
    "#     window = serie[i - Nw:i, :]\n",
    "    X = np.hstack((window[o:-(order - o), :] for o in range(order))).copy()\n",
    "    y = window[order:, :].copy()\n",
    "    batch = X.shape[0]\n",
    "\n",
    "    estimator = ovk.Ridge('DGauss', lbda=0.001, gamma=.001, A=np.eye(p))\n",
    "    start = time.time()\n",
    "    estimator.fit(X, y)\n",
    "    stop = time.time()\n",
    "\n",
    "    pred = s.inverse_transform(estimator.predict(np.hstack((s.transform(serie[i - (order - o):i - (order - o) + 1, :]) for o in range(order)))))[0]\n",
    "#     pred = estimator.predict_dense(np.hstack((serie[i - (order - o):i - (order - o) + 1, :]) for o in range(order)))[0]\n",
    "    err[idx] = np.mean((serie[i, :] - pred) ** 2)\n",
    "\n",
    "    pred_t = s.inverse_transform(estimator.predict(np.hstack((window[o:-(order - o), :] for o in range(order))).copy()))\n",
    "#     pred_t = estimator.predict_dense(np.hstack((window[o:-(order - o), :] for o in range(order))).copy())\n",
    "    err_t[idx] = np.mean((serie[i - Nw + order:i, :] - pred_t) ** 2)\n",
    "    if idx == 10:\n",
    "        break\n",
    "    \n",
    "# display.clear_output(wait=True)\n",
    "# display.display(plt.gcf())\n",
    "# plt.cla()\n",
    "# plt.plot(serie[i - Nw + 1:i, 0])\n",
    "# plt.plot(s.inverse_transform(estimator.predict(s.transform(serie[i - Nw:i - 1, :])))[:, 0])\n",
    "\n",
    "display.clear_output(wait=True)\n",
    "display.display(plt.gcf())\n",
    "plt.close()\n",
    "    \n",
    "print('train: %f~%f in %fs' % (np.mean(err_t), np.std(err_t), stop - start))\n",
    "print('test: %f~%f in %fs' % (np.mean(err), np.std(err), stop - start))"
   ]
  },
  {
   "cell_type": "code",
   "execution_count": 151,
   "metadata": {
    "collapsed": false
   },
   "outputs": [
    {
     "data": {
      "text/plain": [
       "0.027513739902780165"
      ]
     },
     "execution_count": 151,
     "metadata": {},
     "output_type": "execute_result"
    }
   ],
   "source": [
    "np.mean(err_t[0:10])"
   ]
  },
  {
   "cell_type": "code",
   "execution_count": 152,
   "metadata": {
    "collapsed": false
   },
   "outputs": [
    {
     "data": {
      "text/plain": [
       "0.023850386554758216"
      ]
     },
     "execution_count": 152,
     "metadata": {},
     "output_type": "execute_result"
    }
   ],
   "source": [
    "np.mean(err[0:10])"
   ]
  },
  {
   "cell_type": "code",
   "execution_count": 161,
   "metadata": {
    "collapsed": false
   },
   "outputs": [],
   "source": [
    "A = np.random.rand(5000, 5000)"
   ]
  },
  {
   "cell_type": "code",
   "execution_count": 162,
   "metadata": {
    "collapsed": false
   },
   "outputs": [
    {
     "name": "stdout",
     "output_type": "stream",
     "text": [
      "1 loop, best of 3: 45 s per loop\n"
     ]
    }
   ],
   "source": [
    "%timeit np.linalg.svd(A)"
   ]
  },
  {
   "cell_type": "code",
   "execution_count": null,
   "metadata": {
    "collapsed": true
   },
   "outputs": [],
   "source": []
  }
 ],
 "metadata": {
  "kernelspec": {
   "display_name": "Python 3",
   "language": "python",
   "name": "python3"
  },
  "language_info": {
   "codemirror_mode": {
    "name": "ipython",
    "version": 3
   },
   "file_extension": ".py",
   "mimetype": "text/x-python",
   "name": "python",
   "nbconvert_exporter": "python",
   "pygments_lexer": "ipython3",
   "version": "3.5.1"
  },
  "widgets": {
   "state": {},
   "version": "1.1.2"
  }
 },
 "nbformat": 4,
 "nbformat_minor": 0
}
