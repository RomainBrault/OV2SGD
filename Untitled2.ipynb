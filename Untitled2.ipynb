{
 "cells": [
  {
   "cell_type": "code",
   "execution_count": 1,
   "metadata": {
    "collapsed": false
   },
   "outputs": [
    {
     "data": {
      "text/plain": [
       "<Handlers.SIG_IGN: 1>"
      ]
     },
     "execution_count": 1,
     "metadata": {},
     "output_type": "execute_result"
    }
   ],
   "source": [
    "import matplotlib\n",
    "matplotlib.use('pgf')\n",
    "\n",
    "%matplotlib inline\n",
    "import numpy as np\n",
    "\n",
    "import matplotlib.pyplot as plt\n",
    "import seaborn as sns\n",
    "import pyov2sgd\n",
    "import time\n",
    "import pandas as pd\n",
    "\n",
    "from IPython import display\n",
    "from sklearn.kernel_approximation import RBFSampler\n",
    "from sklearn.preprocessing import StandardScaler, Normalizer\n",
    "from sklearn.metrics import roc_auc_score\n",
    "from matplotlib.colors import LogNorm\n",
    "\n",
    "from signal import signal, SIGPIPE, SIG_DFL\n",
    "signal(SIGPIPE,SIG_DFL) "
   ]
  },
  {
   "cell_type": "code",
   "execution_count": 2,
   "metadata": {
    "collapsed": false
   },
   "outputs": [],
   "source": [
    "data = pd.read_csv('/Users/Romain/Downloads/MTS_Search/Dataset/Flight001.csv', sep=',')"
   ]
  },
  {
   "cell_type": "code",
   "execution_count": 22,
   "metadata": {
    "collapsed": false
   },
   "outputs": [],
   "source": [
    "serie = data.as_matrix(data.columns[1:]).astype(np.float)\n",
    "N = serie.shape[0]\n",
    "p = serie.shape[1]\n",
    "\n",
    "s = StandardScaler()\n",
    "serie = s.fit_transform(serie)"
   ]
  },
  {
   "cell_type": "code",
   "execution_count": 6,
   "metadata": {
    "collapsed": false
   },
   "outputs": [
    {
     "data": {
      "text/plain": [
       "(4780, 29)"
      ]
     },
     "execution_count": 6,
     "metadata": {},
     "output_type": "execute_result"
    }
   ],
   "source": [
    "serie.shape"
   ]
  },
  {
   "cell_type": "code",
   "execution_count": 23,
   "metadata": {
    "collapsed": false
   },
   "outputs": [
    {
     "data": {
      "image/png": "[encoded data removed]",
      "text/plain": [
       "<matplotlib.figure.Figure at 0x125849b00>"
      ]
     },
     "metadata": {},
     "output_type": "display_data"
    },
    {
     "name": "stdout",
     "output_type": "stream",
     "text": [
      "train: 0.000002~0.000009 in 0.000892s\n",
      "test: 0.000162~0.001943 in 0.000892s\n"
     ]
    }
   ],
   "source": [
    "import statsmodels.tsa.api as tsa\n",
    "import statsmodels.api as sm\n",
    "\n",
    "Nw = 100\n",
    "err = np.empty(len(range(Nw, N)))\n",
    "err_t = np.empty(len(range(Nw, N)))\n",
    "for (idx, i) in enumerate(range(Nw, N)):\n",
    "    start = time.time()\n",
    "    model = tsa.VAR(serie[i - Nw:i, :])\n",
    "    results = model.fit(1, trend='nc')\n",
    "    stop = time.time()\n",
    "    pred = serie[i - 1,:i :]\n",
    "\n",
    "    err[idx] = np.mean((serie[i, :] - pred) ** 2)\n",
    "    err_t[idx] = np.mean((serie[i - Nw + 1:i, :] - \n",
    "                          results.fittedvalues[0:Nw - 1, :]) ** 2)\n",
    "    \n",
    "display.clear_output(wait=True)\n",
    "display.display(plt.gcf())\n",
    "plt.cla()\n",
    "plt.plot(serie[i - Nw + 1:i, 0])\n",
    "plt.plot(serie[i - Nw:i - 1, 0])\n",
    "    \n",
    "display.clear_output(wait=True)\n",
    "display.display(plt.gcf())\n",
    "plt.close()\n",
    "\n",
    "print('train: %f~%f in %fs' % (np.mean(err_t), np.std(err_t), stop - start))\n",
    "print('test: %f~%f in %fs' % (np.mean(err), np.std(err), stop - start))"
   ]
  },
  {
   "cell_type": "code",
   "execution_count": 24,
   "metadata": {
    "collapsed": false
   },
   "outputs": [
    {
     "data": {
      "image/png": "[encoded data removed]",
      "text/plain": [
       "<matplotlib.figure.Figure at 0x125a00978>"
      ]
     },
     "metadata": {},
     "output_type": "display_data"
    },
    {
     "name": "stdout",
     "output_type": "stream",
     "text": [
      "train: 0.000002~0.000009 in 0.001625s\n",
      "test: 21599305574287572.000000~334613133269036736.000000 in 0.001625s\n"
     ]
    }
   ],
   "source": [
    "import statsmodels.tsa.api as tsa\n",
    "import statsmodels.api as sm\n",
    "\n",
    "Nw = 100\n",
    "err = np.empty(len(range(Nw, N)))\n",
    "err_t = np.empty(len(range(Nw, N)))\n",
    "for (idx, i) in enumerate(range(Nw, N)):\n",
    "    start = time.time()\n",
    "    model = tsa.VAR(serie[i - Nw:i, :])\n",
    "    results = model.fit(1, trend='nc')\n",
    "    stop = time.time()\n",
    "    pred = results.forecast(serie[i - 1:i, :], 1)\n",
    "\n",
    "    err[idx] = np.mean((serie[i, :] - pred) ** 2)\n",
    "    err_t[idx] = np.mean((serie[i - Nw + 1:i, :] - \n",
    "                          results.fittedvalues[0:Nw - 1, :]) ** 2)\n",
    "    \n",
    "display.clear_output(wait=True)\n",
    "display.display(plt.gcf())\n",
    "plt.cla()\n",
    "plt.plot(serie[i - Nw + 1:i, 0])\n",
    "plt.plot(results.fittedvalues[0:Nw - 1, 0])\n",
    "    \n",
    "display.clear_output(wait=True)\n",
    "display.display(plt.gcf())\n",
    "plt.close()\n",
    "\n",
    "print('train: %f~%f in %fs' % (np.mean(err_t), np.std(err_t), stop - start))\n",
    "print('test: %f~%f in %fs' % (np.mean(err), np.std(err), stop - start))"
   ]
  },
  {
   "cell_type": "code",
   "execution_count": 138,
   "metadata": {
    "collapsed": false
   },
   "outputs": [
    {
     "data": {
      "image/png": "[encoded data removed]",
      "text/plain": [
       "<matplotlib.figure.Figure at 0x1324dad30>"
      ]
     },
     "metadata": {},
     "output_type": "display_data"
    },
    {
     "name": "stdout",
     "output_type": "stream",
     "text": [
      "train: 0.000172~0.000226 in 0.001742s\n",
      "test: 0.000747~0.002850 in 0.001742s\n"
     ]
    }
   ],
   "source": [
    "eta0 = 1.\n",
    "lbda = 0.0000001\n",
    "nu = 0.\n",
    "block = 25\n",
    "cond = 1e-10\n",
    "cap = -1\n",
    "T = 2\n",
    "L = pyov2sgd.RidgeLoss()\n",
    "B = pyov2sgd.DecomposableGaussian(np.eye(p), 1000.)\n",
    "# B = pyov2sgd.DecomposableSkewedChi2(np.eye(p), 500)\n",
    "C = pyov2sgd.InverseScaling(eta0, 0, 0)\n",
    "\n",
    "Nw = 100\n",
    "err = np.empty(len(range(Nw, N)))\n",
    "err_t = np.empty(len(range(Nw, N)))\n",
    "for (idx, i) in enumerate(range(Nw, N)):\n",
    "    X = serie[i - Nw    :i - 1, :].copy()\n",
    "    y = serie[i - Nw + 1:i    , :].copy()\n",
    "    batch = X.shape[0]\n",
    "\n",
    "    estimator = pyov2sgd.DSOVK(L, B, C, p, lbda, nu, T, \n",
    "                               batch, block, cap, cond)\n",
    "    start = time.time()\n",
    "    estimator.fit_dense(X, y)\n",
    "    stop = time.time()\n",
    "    pred = estimator.predict_dense(serie[i - 1:i, :])\n",
    "    err[idx] = np.mean((serie[i, :] - pred) ** 2)\n",
    "    err_t[idx] = np.mean((serie[i - Nw + 1:i, :] - \n",
    "                          estimator.predict_dense(serie[i - Nw:i - 1, :])) ** 2)\n",
    "    \n",
    "display.clear_output(wait=True)\n",
    "display.display(plt.gcf())\n",
    "plt.cla()\n",
    "plt.plot(serie[i - Nw + 1:i, 0])\n",
    "plt.plot(estimator.predict_dense(serie[i - Nw:i - 1, :])[:, 0])\n",
    "\n",
    "display.clear_output(wait=True)\n",
    "display.display(plt.gcf())\n",
    "plt.close()\n",
    "    \n",
    "print('train: %f~%f in %fs' % (np.mean(err_t), np.std(err_t), stop - start))\n",
    "print('test: %f~%f in %fs' % (np.mean(err), np.std(err), stop - start))"
   ]
  },
  {
   "cell_type": "code",
   "execution_count": 47,
   "metadata": {
    "collapsed": false
   },
   "outputs": [
    {
     "data": {
      "text/plain": [
       "[<matplotlib.lines.Line2D at 0x128f7e198>]"
      ]
     },
     "execution_count": 47,
     "metadata": {},
     "output_type": "execute_result"
    },
    {
     "data": {
      "image/png": "[encoded data removed]",
      "text/plain": [
       "<matplotlib.figure.Figure at 0x128f93400>"
      ]
     },
     "metadata": {},
     "output_type": "display_data"
    }
   ],
   "source": [
    "j = 20\n",
    "plt.plot(serie[i - Nw + 1:i, j])\n",
    "plt.plot(estimator.predict_dense(serie[i - Nw:i - 1, :])[:, j])"
   ]
  },
  {
   "cell_type": "code",
   "execution_count": 151,
   "metadata": {
    "collapsed": false
   },
   "outputs": [],
   "source": [
    "X = serie[:-1, :].copy()\n",
    "y = serie[1:, :].copy()\n",
    "estimator.fit_dense(X, y)\n",
    "pred_s = np.empty(serie.shape)\n",
    "pred_s[0, :] = serie[0, :]\n",
    "\n",
    "T = 500\n",
    "\n",
    "for i in range(1, serie.shape[0], T):\n",
    "    pred_s[i] = estimator.predict_dense(serie[i - 1:i, :])\n",
    "    for j in range(1, T):\n",
    "        if i + j >= serie.shape[0]:\n",
    "            break\n",
    "        pred_s[i + j, :] = estimator.predict_dense(pred_s[i + j - 1:i + j, :])"
   ]
  },
  {
   "cell_type": "code",
   "execution_count": 152,
   "metadata": {
    "collapsed": false
   },
   "outputs": [
    {
     "data": {
      "text/plain": [
       "[<matplotlib.lines.Line2D at 0x132931a58>]"
      ]
     },
     "execution_count": 152,
     "metadata": {},
     "output_type": "execute_result"
    },
    {
     "data": {
      "image/png": "[encoded data removed]",
      "text/plain": [
       "<matplotlib.figure.Figure at 0x132931fd0>"
      ]
     },
     "metadata": {},
     "output_type": "display_data"
    }
   ],
   "source": [
    "plt.plot(pred_s[:, 0])\n",
    "plt.plot(serie[:, 0])"
   ]
  },
  {
   "cell_type": "code",
   "execution_count": 53,
   "metadata": {
    "collapsed": false
   },
   "outputs": [],
   "source": [
    "pred_s[1, :] = estimator.predict_dense(pred_s[0:1, :])"
   ]
  },
  {
   "cell_type": "code",
   "execution_count": 60,
   "metadata": {
    "collapsed": false
   },
   "outputs": [
    {
     "data": {
      "text/plain": [
       "array([-1.44919773, -1.64274596, -6.04712935, -1.31579089, -0.67662602,\n",
       "        4.47607951, -1.89442544, -3.3371052 , -3.31415839,  1.50930495,\n",
       "       -1.04664408, -2.59072269, -1.33774441,  1.63150048,  0.54826612,\n",
       "       -1.04009693, -6.1160885 , -2.70674157, -0.50227472, -4.16902224,\n",
       "       -1.05316297, -7.14477581, -6.31325894,  0.36643887, -3.63074844,\n",
       "       -2.55704007, -7.70875355, -0.83006639, -0.8300148 ])"
      ]
     },
     "execution_count": 60,
     "metadata": {},
     "output_type": "execute_result"
    }
   ],
   "source": [
    "serie[0, :]"
   ]
  },
  {
   "cell_type": "code",
   "execution_count": 71,
   "metadata": {
    "collapsed": false
   },
   "outputs": [
    {
     "data": {
      "text/plain": [
       "-1.05297561620039"
      ]
     },
     "execution_count": 71,
     "metadata": {},
     "output_type": "execute_result"
    }
   ],
   "source": [
    "pred_s[2000, 20]"
   ]
  },
  {
   "cell_type": "code",
   "execution_count": null,
   "metadata": {
    "collapsed": true
   },
   "outputs": [],
   "source": []
  }
 ],
 "metadata": {
  "anaconda-cloud": {},
  "kernelspec": {
   "display_name": "Python [Root]",
   "language": "python",
   "name": "Python [Root]"
  },
  "language_info": {
   "codemirror_mode": {
    "name": "ipython",
    "version": 3
   },
   "file_extension": ".py",
   "mimetype": "text/x-python",
   "name": "python",
   "nbconvert_exporter": "python",
   "pygments_lexer": "ipython3",
   "version": "3.5.1"
  },
  "widgets": {
   "state": {},
   "version": "1.1.2"
  }
 },
 "nbformat": 4,
 "nbformat_minor": 0
}
